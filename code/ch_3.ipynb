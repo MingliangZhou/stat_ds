{
 "cells": [
  {
   "cell_type": "markdown",
   "metadata": {},
   "source": [
    "   # Web Page"
   ]
  },
  {
   "cell_type": "code",
   "execution_count": 1,
   "metadata": {},
   "outputs": [
    {
     "data": {
      "text/html": [
       "<div>\n",
       "<style>\n",
       "    .dataframe thead tr:only-child th {\n",
       "        text-align: right;\n",
       "    }\n",
       "\n",
       "    .dataframe thead th {\n",
       "        text-align: left;\n",
       "    }\n",
       "\n",
       "    .dataframe tbody tr th {\n",
       "        vertical-align: top;\n",
       "    }\n",
       "</style>\n",
       "<table border=\"1\" class=\"dataframe\">\n",
       "  <thead>\n",
       "    <tr style=\"text-align: right;\">\n",
       "      <th></th>\n",
       "      <th>Page</th>\n",
       "      <th>Time</th>\n",
       "    </tr>\n",
       "  </thead>\n",
       "  <tbody>\n",
       "    <tr>\n",
       "      <th>0</th>\n",
       "      <td>Page A</td>\n",
       "      <td>0.21</td>\n",
       "    </tr>\n",
       "    <tr>\n",
       "      <th>1</th>\n",
       "      <td>Page B</td>\n",
       "      <td>2.53</td>\n",
       "    </tr>\n",
       "    <tr>\n",
       "      <th>2</th>\n",
       "      <td>Page A</td>\n",
       "      <td>0.35</td>\n",
       "    </tr>\n",
       "    <tr>\n",
       "      <th>3</th>\n",
       "      <td>Page B</td>\n",
       "      <td>0.71</td>\n",
       "    </tr>\n",
       "    <tr>\n",
       "      <th>4</th>\n",
       "      <td>Page A</td>\n",
       "      <td>0.67</td>\n",
       "    </tr>\n",
       "  </tbody>\n",
       "</table>\n",
       "</div>"
      ],
      "text/plain": [
       "     Page  Time\n",
       "0  Page A  0.21\n",
       "1  Page B  2.53\n",
       "2  Page A  0.35\n",
       "3  Page B  0.71\n",
       "4  Page A  0.67"
      ]
     },
     "execution_count": 1,
     "metadata": {},
     "output_type": "execute_result"
    }
   ],
   "source": [
    "import pandas as pd\n",
    "\n",
    "df_web = pd.read_csv('../input/web_page_data.csv')\n",
    "df_web.head()"
   ]
  },
  {
   "cell_type": "code",
   "execution_count": 34,
   "metadata": {},
   "outputs": [],
   "source": [
    "timeA = df_web['Time'][df_web['Page']=='Page A'].values.ravel()\n",
    "timeB = df_web['Time'][df_web['Page']=='Page B'].values.ravel()\n",
    "time = np.array([timeA, timeB])"
   ]
  },
  {
   "cell_type": "code",
   "execution_count": 32,
   "metadata": {},
   "outputs": [
    {
     "data": {
      "text/plain": [
       "Text(0,0.5,'Time')"
      ]
     },
     "execution_count": 32,
     "metadata": {},
     "output_type": "execute_result"
    },
    {
     "data": {
      "image/png": "[encoded data removed]",
      "text/plain": [
       "<matplotlib.figure.Figure at 0x11ba04128>"
      ]
     },
     "metadata": {},
     "output_type": "display_data"
    }
   ],
   "source": [
    "import matplotlib.pyplot as plt\n",
    "%matplotlib inline\n",
    "\n",
    "from jupyterthemes import jtplot\n",
    "jtplot.style(theme='grade3')\n",
    "\n",
    "plt.boxplot(time, sym='k')\n",
    "plt.xticks(range(1,3), ['Page A', 'Page B'])\n",
    "plt.ylabel('Time')"
   ]
  },
  {
   "cell_type": "code",
   "execution_count": 13,
   "metadata": {},
   "outputs": [
    {
     "data": {
      "text/plain": [
       "0.3566666666666669"
      ]
     },
     "execution_count": 13,
     "metadata": {},
     "output_type": "execute_result"
    }
   ],
   "source": [
    "import numpy as np\n",
    "\n",
    "np.mean(timeB) - np.mean(timeA)"
   ]
  },
  {
   "cell_type": "code",
   "execution_count": 48,
   "metadata": {},
   "outputs": [],
   "source": [
    "def permTest(x, lenA, lenB):\n",
    "    x = np.random.choice(x, len(x), replace=False)\n",
    "    xA = x[:lenA]\n",
    "    xB = x[lenA:]\n",
    "    return np.mean(xB) - np.mean(xA)"
   ]
  },
  {
   "cell_type": "code",
   "execution_count": 49,
   "metadata": {},
   "outputs": [
    {
     "data": {
      "text/plain": [
       "<matplotlib.lines.Line2D at 0x11c8b2400>"
      ]
     },
     "execution_count": 49,
     "metadata": {},
     "output_type": "execute_result"
    },
    {
     "data": {
      "image/png": "[encoded data removed]",
      "text/plain": [
       "<matplotlib.figure.Figure at 0x11c8b2780>"
      ]
     },
     "metadata": {},
     "output_type": "display_data"
    }
   ],
   "source": [
    "diffMean = []\n",
    "for iT in range(10000):\n",
    "    diffMean.append(permTest(np.concatenate((timeA, timeB), axis=None), \n",
    "                             len(timeA), len(timeB)))\n",
    "plt.hist(diffMean, bins=50)\n",
    "plt.axvline(np.mean(timeB) - np.mean(timeA), color='r')"
   ]
  },
  {
   "cell_type": "code",
   "execution_count": 90,
   "metadata": {},
   "outputs": [
    {
     "data": {
      "text/plain": [
       "0.1359"
      ]
     },
     "execution_count": 90,
     "metadata": {},
     "output_type": "execute_result"
    }
   ],
   "source": [
    "np.mean(diffMean > np.mean(timeB) - np.mean(timeA))"
   ]
  },
  {
   "cell_type": "code",
   "execution_count": 94,
   "metadata": {},
   "outputs": [
    {
     "data": {
      "text/plain": [
       "Ttest_indResult(statistic=-1.1237042154424823, pvalue=0.26901024363926024)"
      ]
     },
     "execution_count": 94,
     "metadata": {},
     "output_type": "execute_result"
    }
   ],
   "source": [
    "from scipy import stats\n",
    "\n",
    "stats.ttest_ind(timeA, timeB)"
   ]
  },
  {
   "cell_type": "code",
   "execution_count": 105,
   "metadata": {},
   "outputs": [
    {
     "name": "stdout",
     "output_type": "stream",
     "text": [
      "1.4119444444444444 0.9292255420642996 1.216641824056007 1.4395500197142366\n"
     ]
    }
   ],
   "source": [
    "timeAB = np.concatenate((timeA, timeB))\n",
    "\n",
    "norm_mean = np.mean(timeAB)\n",
    "norm_std = np.std(timeAB)\n",
    "norm_std_A = norm_std * np.sqrt(len(timeAB)) / np.sqrt(len(timeA))\n",
    "norm_std_B = norm_std * np.sqrt(len(timeAB)) / np.sqrt(len(timeB))\n",
    "print(norm_mean, norm_std, norm_std_A, norm_std_B)\n",
    "\n",
    "modelA = stats.norm(loc=norm_mean, scale=norm_std_A)\n",
    "modelB = stats.norm(loc=norm_mean, scale=norm_std_B)\n",
    "\n",
    "diffMean = []\n",
    "for iT in range(10000):\n",
    "    meanA = np.mean(modelA.rvs(size=len(timeA)))\n",
    "    meanB = np.mean(modelB.rvs(size=len(timeB)))\n",
    "    diffMean.append(meanB - meanA)\n"
   ]
  },
  {
   "cell_type": "code",
   "execution_count": 103,
   "metadata": {},
   "outputs": [
    {
     "data": {
      "text/plain": [
       "<matplotlib.lines.Line2D at 0x12132a9e8>"
      ]
     },
     "execution_count": 103,
     "metadata": {},
     "output_type": "execute_result"
    },
    {
     "data": {
      "image/png": "[encoded data removed]",
      "text/plain": [
       "<matplotlib.figure.Figure at 0x12132a978>"
      ]
     },
     "metadata": {},
     "output_type": "display_data"
    }
   ],
   "source": [
    "plt.hist(diffMean, bins=100)\n",
    "plt.axvline(np.mean(timeB) - np.mean(timeA), color='r')"
   ]
  },
  {
   "cell_type": "code",
   "execution_count": 104,
   "metadata": {},
   "outputs": [
    {
     "data": {
      "text/plain": [
       "0.2169"
      ]
     },
     "execution_count": 104,
     "metadata": {},
     "output_type": "execute_result"
    }
   ],
   "source": [
    "np.mean(diffMean > np.mean(timeB) - np.mean(timeA))"
   ]
  },
  {
   "cell_type": "markdown",
   "metadata": {},
   "source": [
    "# Conversion"
   ]
  },
  {
   "cell_type": "code",
   "execution_count": 50,
   "metadata": {},
   "outputs": [
    {
     "data": {
      "text/html": [
       "<div>\n",
       "<style>\n",
       "    .dataframe thead tr:only-child th {\n",
       "        text-align: right;\n",
       "    }\n",
       "\n",
       "    .dataframe thead th {\n",
       "        text-align: left;\n",
       "    }\n",
       "\n",
       "    .dataframe tbody tr th {\n",
       "        vertical-align: top;\n",
       "    }\n",
       "</style>\n",
       "<table border=\"1\" class=\"dataframe\">\n",
       "  <thead>\n",
       "    <tr style=\"text-align: right;\">\n",
       "      <th></th>\n",
       "      <th>Price A</th>\n",
       "      <th>Price B</th>\n",
       "    </tr>\n",
       "  </thead>\n",
       "  <tbody>\n",
       "    <tr>\n",
       "      <th>0</th>\n",
       "      <td>200</td>\n",
       "      <td>182</td>\n",
       "    </tr>\n",
       "    <tr>\n",
       "      <th>1</th>\n",
       "      <td>23539</td>\n",
       "      <td>22406</td>\n",
       "    </tr>\n",
       "  </tbody>\n",
       "</table>\n",
       "</div>"
      ],
      "text/plain": [
       "   Price A  Price B\n",
       "0      200      182\n",
       "1    23539    22406"
      ]
     },
     "execution_count": 50,
     "metadata": {},
     "output_type": "execute_result"
    }
   ],
   "source": [
    "df_con = pd.DataFrame(data={'Price A': [200, 23539], 'Price B': [182, 22406]})\n",
    "df_con.head()"
   ]
  },
  {
   "cell_type": "code",
   "execution_count": 61,
   "metadata": {},
   "outputs": [],
   "source": [
    "priceA = df_con['Price A'].values\n",
    "priceB = df_con['Price B'].values"
   ]
  },
  {
   "cell_type": "code",
   "execution_count": 62,
   "metadata": {},
   "outputs": [
    {
     "data": {
      "text/plain": [
       "0.008245731430915016"
      ]
     },
     "execution_count": 62,
     "metadata": {},
     "output_type": "execute_result"
    }
   ],
   "source": [
    "rate = df_con.sum(axis=1)[0] / (np.sum(priceA) + np.sum(priceB))\n",
    "rate"
   ]
  },
  {
   "cell_type": "code",
   "execution_count": 66,
   "metadata": {},
   "outputs": [
    {
     "data": {
      "text/plain": [
       "0.03675791182059275"
      ]
     },
     "execution_count": 66,
     "metadata": {},
     "output_type": "execute_result"
    }
   ],
   "source": [
    "ref_diff = 100 * (priceA[0] / np.sum(priceA) - priceB[0] / np.sum(priceB))\n",
    "ref_diff"
   ]
  },
  {
   "cell_type": "code",
   "execution_count": 70,
   "metadata": {},
   "outputs": [],
   "source": [
    "def perm_con(x, len1, len2):\n",
    "    x = np.random.permutation(x)\n",
    "    rate1 = x[:len1].tolist().count(1) / len1\n",
    "    rate2 = x[len1:].tolist().count(1) / len2\n",
    "    return 100 * (rate1 - rate2)"
   ]
  },
  {
   "cell_type": "code",
   "execution_count": 71,
   "metadata": {},
   "outputs": [],
   "source": [
    "sample = np.concatenate((np.zeros(priceA[1]+priceB[1]), np.ones(priceA[0]+priceB[0])))\n",
    "diff = []\n",
    "for iT in range(10000):\n",
    "    diff.append(perm_con(sample, np.sum(priceA), np.sum(priceB)))"
   ]
  },
  {
   "cell_type": "code",
   "execution_count": 78,
   "metadata": {},
   "outputs": [
    {
     "data": {
      "text/plain": [
       "<matplotlib.lines.Line2D at 0x11c4054a8>"
      ]
     },
     "execution_count": 78,
     "metadata": {},
     "output_type": "execute_result"
    },
    {
     "data": {
      "image/png": "[encoded data removed]",
      "text/plain": [
       "<matplotlib.figure.Figure at 0x11c405898>"
      ]
     },
     "metadata": {},
     "output_type": "display_data"
    }
   ],
   "source": [
    "plt.hist(diff, bins=100)\n",
    "plt.axvline(ref_diff, color='r')"
   ]
  },
  {
   "cell_type": "code",
   "execution_count": 79,
   "metadata": {},
   "outputs": [
    {
     "data": {
      "text/plain": [
       "0.32"
      ]
     },
     "execution_count": 79,
     "metadata": {},
     "output_type": "execute_result"
    }
   ],
   "source": [
    "p_value = np.mean(diff > ref_diff)\n",
    "p_value"
   ]
  },
  {
   "cell_type": "code",
   "execution_count": 87,
   "metadata": {},
   "outputs": [],
   "source": [
    "from scipy import stats\n",
    "\n",
    "nA = np.sum(priceA)\n",
    "nB = np.sum(priceB)\n",
    "p = rate\n",
    "\n",
    "modelA = stats.binom(nA, p)\n",
    "modelB = stats.binom(nB, p)\n",
    "\n",
    "diff = []\n",
    "for iT in range(10000):\n",
    "    rateA = modelA.rvs() / nA\n",
    "    rateB = modelB.rvs() / nB\n",
    "    diff.append(100 * (rateA - rateB))"
   ]
  },
  {
   "cell_type": "code",
   "execution_count": 88,
   "metadata": {
    "scrolled": true
   },
   "outputs": [
    {
     "data": {
      "text/plain": [
       "<matplotlib.lines.Line2D at 0x120a96358>"
      ]
     },
     "execution_count": 88,
     "metadata": {},
     "output_type": "execute_result"
    },
    {
     "data": {
      "image/png": "[encoded data removed]",
      "text/plain": [
       "<matplotlib.figure.Figure at 0x120a8df98>"
      ]
     },
     "metadata": {},
     "output_type": "display_data"
    }
   ],
   "source": [
    "plt.hist(diff, bins=100)\n",
    "plt.axvline(ref_diff, color='r')"
   ]
  },
  {
   "cell_type": "code",
   "execution_count": 89,
   "metadata": {},
   "outputs": [
    {
     "data": {
      "text/plain": [
       "0.3365"
      ]
     },
     "execution_count": 89,
     "metadata": {},
     "output_type": "execute_result"
    }
   ],
   "source": [
    "p_value = np.mean(diff > ref_diff)\n",
    "p_value"
   ]
  },
  {
   "cell_type": "markdown",
   "metadata": {},
   "source": [
    "# Online Sample"
   ]
  },
  {
   "cell_type": "code",
   "execution_count": 108,
   "metadata": {},
   "outputs": [
    {
     "data": {
      "text/html": [
       "<div>\n",
       "<style>\n",
       "    .dataframe thead tr:only-child th {\n",
       "        text-align: right;\n",
       "    }\n",
       "\n",
       "    .dataframe thead th {\n",
       "        text-align: left;\n",
       "    }\n",
       "\n",
       "    .dataframe tbody tr th {\n",
       "        vertical-align: top;\n",
       "    }\n",
       "</style>\n",
       "<table border=\"1\" class=\"dataframe\">\n",
       "  <thead>\n",
       "    <tr style=\"text-align: right;\">\n",
       "      <th></th>\n",
       "      <th>Score 1</th>\n",
       "      <th>Score 2</th>\n",
       "    </tr>\n",
       "  </thead>\n",
       "  <tbody>\n",
       "    <tr>\n",
       "      <th>0</th>\n",
       "      <td>3</td>\n",
       "      <td>20</td>\n",
       "    </tr>\n",
       "    <tr>\n",
       "      <th>1</th>\n",
       "      <td>3</td>\n",
       "      <td>13</td>\n",
       "    </tr>\n",
       "    <tr>\n",
       "      <th>2</th>\n",
       "      <td>3</td>\n",
       "      <td>13</td>\n",
       "    </tr>\n",
       "    <tr>\n",
       "      <th>3</th>\n",
       "      <td>12</td>\n",
       "      <td>20</td>\n",
       "    </tr>\n",
       "    <tr>\n",
       "      <th>4</th>\n",
       "      <td>15</td>\n",
       "      <td>29</td>\n",
       "    </tr>\n",
       "  </tbody>\n",
       "</table>\n",
       "</div>"
      ],
      "text/plain": [
       "   Score 1  Score 2\n",
       "0        3       20\n",
       "1        3       13\n",
       "2        3       13\n",
       "3       12       20\n",
       "4       15       29"
      ]
     },
     "execution_count": 108,
     "metadata": {},
     "output_type": "execute_result"
    }
   ],
   "source": [
    "df_online = pd.DataFrame(data={\"Score 1\": [3, 3, 3, 12, 15, 16, 17, 19, 23, 24, 32], \n",
    "                               \"Score 2\": [20,13,13,20, 29, 32, 23, 20, 25, 15, 30]})\n",
    "df_online.head()"
   ]
  },
  {
   "cell_type": "code",
   "execution_count": 109,
   "metadata": {},
   "outputs": [
    {
     "data": {
      "text/plain": [
       "Ttest_relResult(statistic=-2.737328922288368, pvalue=0.02092847795148222)"
      ]
     },
     "execution_count": 109,
     "metadata": {},
     "output_type": "execute_result"
    }
   ],
   "source": [
    "stats.ttest_rel(df_online['Score 1'], df_online['Score 2'])"
   ]
  },
  {
   "cell_type": "markdown",
   "metadata": {},
   "source": [
    "# Stickness in Web Page"
   ]
  },
  {
   "cell_type": "code",
   "execution_count": 110,
   "metadata": {},
   "outputs": [
    {
     "data": {
      "text/html": [
       "<div>\n",
       "<style>\n",
       "    .dataframe thead tr:only-child th {\n",
       "        text-align: right;\n",
       "    }\n",
       "\n",
       "    .dataframe thead th {\n",
       "        text-align: left;\n",
       "    }\n",
       "\n",
       "    .dataframe tbody tr th {\n",
       "        vertical-align: top;\n",
       "    }\n",
       "</style>\n",
       "<table border=\"1\" class=\"dataframe\">\n",
       "  <thead>\n",
       "    <tr style=\"text-align: right;\">\n",
       "      <th></th>\n",
       "      <th>Page 1</th>\n",
       "      <th>Page 2</th>\n",
       "      <th>Page 3</th>\n",
       "      <th>Page 4</th>\n",
       "    </tr>\n",
       "  </thead>\n",
       "  <tbody>\n",
       "    <tr>\n",
       "      <th>0</th>\n",
       "      <td>164</td>\n",
       "      <td>178</td>\n",
       "      <td>175</td>\n",
       "      <td>155</td>\n",
       "    </tr>\n",
       "    <tr>\n",
       "      <th>1</th>\n",
       "      <td>172</td>\n",
       "      <td>191</td>\n",
       "      <td>193</td>\n",
       "      <td>166</td>\n",
       "    </tr>\n",
       "    <tr>\n",
       "      <th>2</th>\n",
       "      <td>177</td>\n",
       "      <td>182</td>\n",
       "      <td>171</td>\n",
       "      <td>164</td>\n",
       "    </tr>\n",
       "    <tr>\n",
       "      <th>3</th>\n",
       "      <td>156</td>\n",
       "      <td>185</td>\n",
       "      <td>163</td>\n",
       "      <td>170</td>\n",
       "    </tr>\n",
       "    <tr>\n",
       "      <th>4</th>\n",
       "      <td>195</td>\n",
       "      <td>177</td>\n",
       "      <td>176</td>\n",
       "      <td>168</td>\n",
       "    </tr>\n",
       "  </tbody>\n",
       "</table>\n",
       "</div>"
      ],
      "text/plain": [
       "   Page 1  Page 2  Page 3  Page 4\n",
       "0     164     178     175     155\n",
       "1     172     191     193     166\n",
       "2     177     182     171     164\n",
       "3     156     185     163     170\n",
       "4     195     177     176     168"
      ]
     },
     "execution_count": 110,
     "metadata": {},
     "output_type": "execute_result"
    }
   ],
   "source": [
    "df_stick = pd.DataFrame(data={\n",
    "    'Page 1': [164, 172, 177, 156, 195],\n",
    "    'Page 2': [178, 191, 182, 185, 177],\n",
    "    'Page 3': [175, 193, 171, 163, 176],\n",
    "    'Page 4': [155, 166, 164, 170, 168]\n",
    "})\n",
    "df_stick.head()"
   ]
  },
  {
   "cell_type": "code",
   "execution_count": 120,
   "metadata": {},
   "outputs": [
    {
     "data": {
      "text/plain": [
       "array([[164, 172, 177, 156, 195],\n",
       "       [178, 191, 182, 185, 177],\n",
       "       [175, 193, 171, 163, 176],\n",
       "       [155, 166, 164, 170, 168]])"
      ]
     },
     "execution_count": 120,
     "metadata": {},
     "output_type": "execute_result"
    }
   ],
   "source": [
    "col_names = df_stick.columns\n",
    "stick = df_stick.values.transpose() # ???\n",
    "stick"
   ]
  },
  {
   "cell_type": "code",
   "execution_count": 122,
   "metadata": {},
   "outputs": [
    {
     "data": {
      "text/plain": [
       "{'boxes': [<matplotlib.lines.Line2D at 0x121e66a58>,\n",
       "  <matplotlib.lines.Line2D at 0x121e75550>,\n",
       "  <matplotlib.lines.Line2D at 0x121e852e8>,\n",
       "  <matplotlib.lines.Line2D at 0x121e98080>],\n",
       " 'caps': [<matplotlib.lines.Line2D at 0x121e6b4a8>,\n",
       "  <matplotlib.lines.Line2D at 0x121e6b8d0>,\n",
       "  <matplotlib.lines.Line2D at 0x121e7d240>,\n",
       "  <matplotlib.lines.Line2D at 0x121e7d668>,\n",
       "  <matplotlib.lines.Line2D at 0x121e85f98>,\n",
       "  <matplotlib.lines.Line2D at 0x121e8e400>,\n",
       "  <matplotlib.lines.Line2D at 0x121e98d30>,\n",
       "  <matplotlib.lines.Line2D at 0x121e9e198>],\n",
       " 'fliers': [<matplotlib.lines.Line2D at 0x121e75160>,\n",
       "  <matplotlib.lines.Line2D at 0x121e7deb8>,\n",
       "  <matplotlib.lines.Line2D at 0x121e8ec50>,\n",
       "  <matplotlib.lines.Line2D at 0x121e9e9e8>],\n",
       " 'means': [],\n",
       " 'medians': [<matplotlib.lines.Line2D at 0x121e6bcf8>,\n",
       "  <matplotlib.lines.Line2D at 0x121e7da90>,\n",
       "  <matplotlib.lines.Line2D at 0x121e8e828>,\n",
       "  <matplotlib.lines.Line2D at 0x121e9e5c0>],\n",
       " 'whiskers': [<matplotlib.lines.Line2D at 0x121e66ba8>,\n",
       "  <matplotlib.lines.Line2D at 0x121e6b080>,\n",
       "  <matplotlib.lines.Line2D at 0x121e759b0>,\n",
       "  <matplotlib.lines.Line2D at 0x121e75dd8>,\n",
       "  <matplotlib.lines.Line2D at 0x121e85748>,\n",
       "  <matplotlib.lines.Line2D at 0x121e85b70>,\n",
       "  <matplotlib.lines.Line2D at 0x121e984e0>,\n",
       "  <matplotlib.lines.Line2D at 0x121e98908>]}"
      ]
     },
     "execution_count": 122,
     "metadata": {},
     "output_type": "execute_result"
    },
    {
     "data": {
      "image/png": "[encoded data removed]",
      "text/plain": [
       "<matplotlib.figure.Figure at 0x121d8e2b0>"
      ]
     },
     "metadata": {},
     "output_type": "display_data"
    }
   ],
   "source": [
    "plt.boxplot(stick.tolist(), sym='k')"
   ]
  },
  {
   "cell_type": "code",
   "execution_count": 128,
   "metadata": {},
   "outputs": [
    {
     "name": "stdout",
     "output_type": "stream",
     "text": [
      "0 1 Ttest_indResult(statistic=-1.3859292911256307, pvalue=0.20317499853824886)\n",
      "0 2 Ttest_indResult(statistic=-0.34030136960725227, pvalue=0.7423928129048489)\n",
      "0 3 Ttest_indResult(statistic=1.156191733258663, pvalue=0.28096106091142226)\n",
      "1 2 Ttest_indResult(statistic=1.2650143347589609, pvalue=0.24146881279653873)\n",
      "1 3 Ttest_indResult(statistic=4.950587917224828, pvalue=0.001120056434441126)\n",
      "2 3 Ttest_indResult(statistic=1.9782125034804172, pvalue=0.08327876770509356)\n"
     ]
    }
   ],
   "source": [
    "for i in range(len(col_names)):\n",
    "    for j in range(i+1, len(col_names)):\n",
    "        print(i, j, stats.ttest_ind(stick[i], stick[j]))"
   ]
  },
  {
   "cell_type": "code",
   "execution_count": 147,
   "metadata": {},
   "outputs": [],
   "source": [
    "ref_std = np.std(np.mean(stick, axis=1))\n",
    "list_std = []\n",
    "for iT in range(100000):\n",
    "    tmp_stick = np.random.permutation(stick.ravel()).reshape(stick.shape)\n",
    "    list_std.append(np.std(np.mean(tmp_stick, axis=1)))"
   ]
  },
  {
   "cell_type": "code",
   "execution_count": 148,
   "metadata": {},
   "outputs": [
    {
     "data": {
      "text/plain": [
       "<matplotlib.lines.Line2D at 0x1227a8a90>"
      ]
     },
     "execution_count": 148,
     "metadata": {},
     "output_type": "execute_result"
    },
    {
     "data": {
      "image/png": "[encoded data removed]",
      "text/plain": [
       "<matplotlib.figure.Figure at 0x1227a8710>"
      ]
     },
     "metadata": {},
     "output_type": "display_data"
    }
   ],
   "source": [
    "plt.hist(list_std, bins=100)\n",
    "plt.axvline(ref_std, color='r')"
   ]
  },
  {
   "cell_type": "code",
   "execution_count": 149,
   "metadata": {},
   "outputs": [
    {
     "data": {
      "text/plain": [
       "0.07946"
      ]
     },
     "execution_count": 149,
     "metadata": {},
     "output_type": "execute_result"
    }
   ],
   "source": [
    "np.mean(list_std > ref_std)"
   ]
  },
  {
   "cell_type": "code",
   "execution_count": 150,
   "metadata": {},
   "outputs": [
    {
     "data": {
      "text/plain": [
       "F_onewayResult(statistic=2.739825341901467, pvalue=0.0775862152580146)"
      ]
     },
     "execution_count": 150,
     "metadata": {},
     "output_type": "execute_result"
    }
   ],
   "source": [
    "stats.f_oneway(stick[0], stick[1], stick[2], stick[3])"
   ]
  },
  {
   "cell_type": "markdown",
   "metadata": {},
   "source": [
    "# Headline"
   ]
  },
  {
   "cell_type": "code",
   "execution_count": 151,
   "metadata": {},
   "outputs": [
    {
     "data": {
      "text/html": [
       "<div>\n",
       "<style>\n",
       "    .dataframe thead tr:only-child th {\n",
       "        text-align: right;\n",
       "    }\n",
       "\n",
       "    .dataframe thead th {\n",
       "        text-align: left;\n",
       "    }\n",
       "\n",
       "    .dataframe tbody tr th {\n",
       "        vertical-align: top;\n",
       "    }\n",
       "</style>\n",
       "<table border=\"1\" class=\"dataframe\">\n",
       "  <thead>\n",
       "    <tr style=\"text-align: right;\">\n",
       "      <th></th>\n",
       "      <th>Headline A</th>\n",
       "      <th>Headline B</th>\n",
       "      <th>Headline C</th>\n",
       "    </tr>\n",
       "  </thead>\n",
       "  <tbody>\n",
       "    <tr>\n",
       "      <th>0</th>\n",
       "      <td>14</td>\n",
       "      <td>8</td>\n",
       "      <td>12</td>\n",
       "    </tr>\n",
       "    <tr>\n",
       "      <th>1</th>\n",
       "      <td>986</td>\n",
       "      <td>992</td>\n",
       "      <td>988</td>\n",
       "    </tr>\n",
       "  </tbody>\n",
       "</table>\n",
       "</div>"
      ],
      "text/plain": [
       "   Headline A  Headline B  Headline C\n",
       "0          14           8          12\n",
       "1         986         992         988"
      ]
     },
     "execution_count": 151,
     "metadata": {},
     "output_type": "execute_result"
    }
   ],
   "source": [
    "df_headline = pd.DataFrame(data={\n",
    "    'Headline A': [14, 986],\n",
    "    'Headline B': [8, 992],\n",
    "    'Headline C': [12, 988]\n",
    "})\n",
    "df_headline.head()"
   ]
  },
  {
   "cell_type": "code",
   "execution_count": 152,
   "metadata": {},
   "outputs": [
    {
     "data": {
      "text/plain": [
       "array([[ 14,   8,  12],\n",
       "       [986, 992, 988]])"
      ]
     },
     "execution_count": 152,
     "metadata": {},
     "output_type": "execute_result"
    }
   ],
   "source": [
    "headline = df_headline.values\n",
    "headline"
   ]
  },
  {
   "cell_type": "code",
   "execution_count": 163,
   "metadata": {},
   "outputs": [],
   "source": [
    "def cal_chi2(x):\n",
    "    sum0 = np.sum(x[0])\n",
    "    sum1 = np.sum(x[1])\n",
    "    wCol = np.sum(x, axis=0)\n",
    "    rate = sum0 / (sum0 + sum1)\n",
    "    chi2 = 0\n",
    "    for j in range(len(x[0])):\n",
    "        chi2 += ((x[0][j]-wCol[j]*rate) / np.sqrt(wCol[j]*rate))**2\n",
    "        chi2 += ((x[1][j]-wCol[j]*(1-rate)) / np.sqrt(wCol[j]*(1-rate)))**2\n",
    "    return chi2"
   ]
  },
  {
   "cell_type": "code",
   "execution_count": 164,
   "metadata": {},
   "outputs": [
    {
     "data": {
      "text/plain": [
       "1.6659394708658914"
      ]
     },
     "execution_count": 164,
     "metadata": {},
     "output_type": "execute_result"
    }
   ],
   "source": [
    "cal_chi2(headline)"
   ]
  },
  {
   "cell_type": "code",
   "execution_count": 184,
   "metadata": {},
   "outputs": [],
   "source": [
    "list_chi2 = []\n",
    "sample = np.concatenate((np.ones(np.sum(headline[0])), \n",
    "                        np.zeros(np.sum(headline[1]))))\n",
    "for iT in range(10000):\n",
    "    sample = np.random.permutation(sample)\n",
    "    cur = 0\n",
    "    perm_x = []\n",
    "    for j in range(len(headline[0])):\n",
    "        length = np.sum(headline, axis=0)[j]\n",
    "        val1 = sample[cur:cur+length].tolist().count(1)\n",
    "        val2 = length - val1\n",
    "        cur += length\n",
    "        perm_x.append([val1, val2])\n",
    "    perm_chi2 = cal_chi2(np.array(perm_x).transpose())\n",
    "    list_chi2.append(perm_chi2)"
   ]
  },
  {
   "cell_type": "code",
   "execution_count": 185,
   "metadata": {},
   "outputs": [
    {
     "data": {
      "text/plain": [
       "<matplotlib.lines.Line2D at 0x1235e9828>"
      ]
     },
     "execution_count": 185,
     "metadata": {},
     "output_type": "execute_result"
    },
    {
     "data": {
      "image/png": "[encoded data removed]",
      "text/plain": [
       "<matplotlib.figure.Figure at 0x1235e9780>"
      ]
     },
     "metadata": {},
     "output_type": "display_data"
    }
   ],
   "source": [
    "plt.hist(list_chi2, bins=100)\n",
    "plt.axvline(cal_chi2(headline), color='r')"
   ]
  },
  {
   "cell_type": "code",
   "execution_count": 186,
   "metadata": {},
   "outputs": [
    {
     "data": {
      "text/plain": [
       "0.45957"
      ]
     },
     "execution_count": 186,
     "metadata": {},
     "output_type": "execute_result"
    }
   ],
   "source": [
    "np.mean(list_chi2 > cal_chi2(headline))"
   ]
  },
  {
   "cell_type": "code",
   "execution_count": 187,
   "metadata": {},
   "outputs": [
    {
     "data": {
      "text/plain": [
       "(1.6659394708658917,\n",
       " 0.4347562562343731,\n",
       " 2,\n",
       " array([[ 11.33333333,  11.33333333,  11.33333333],\n",
       "        [988.66666667, 988.66666667, 988.66666667]]))"
      ]
     },
     "execution_count": 187,
     "metadata": {},
     "output_type": "execute_result"
    }
   ],
   "source": [
    "stats.chi2_contingency(headline)"
   ]
  },
  {
   "cell_type": "code",
   "execution_count": null,
   "metadata": {},
   "outputs": [],
   "source": []
  }
 ],
 "metadata": {
  "kernelspec": {
   "display_name": "Python 3",
   "language": "python",
   "name": "python3"
  },
  "language_info": {
   "codemirror_mode": {
    "name": "ipython",
    "version": 3
   },
   "file_extension": ".py",
   "mimetype": "text/x-python",
   "name": "python",
   "nbconvert_exporter": "python",
   "pygments_lexer": "ipython3",
   "version": "3.6.0"
  },
  "toc": {
   "base_numbering": 1,
   "nav_menu": {},
   "number_sections": true,
   "sideBar": true,
   "skip_h1_title": false,
   "title_cell": "Table of Contents",
   "title_sidebar": "Contents",
   "toc_cell": false,
   "toc_position": {},
   "toc_section_display": true,
   "toc_window_display": true
  }
 },
 "nbformat": 4,
 "nbformat_minor": 2
}
