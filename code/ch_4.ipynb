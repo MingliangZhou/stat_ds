{
 "cells": [
  {
   "cell_type": "markdown",
   "metadata": {},
   "source": [
    "# Lung Disease"
   ]
  },
  {
   "cell_type": "code",
   "execution_count": 1,
   "metadata": {},
   "outputs": [
    {
     "data": {
      "text/html": [
       "<div>\n",
       "<style>\n",
       "    .dataframe thead tr:only-child th {\n",
       "        text-align: right;\n",
       "    }\n",
       "\n",
       "    .dataframe thead th {\n",
       "        text-align: left;\n",
       "    }\n",
       "\n",
       "    .dataframe tbody tr th {\n",
       "        vertical-align: top;\n",
       "    }\n",
       "</style>\n",
       "<table border=\"1\" class=\"dataframe\">\n",
       "  <thead>\n",
       "    <tr style=\"text-align: right;\">\n",
       "      <th></th>\n",
       "      <th>PEFR</th>\n",
       "      <th>Exposure</th>\n",
       "    </tr>\n",
       "  </thead>\n",
       "  <tbody>\n",
       "    <tr>\n",
       "      <th>0</th>\n",
       "      <td>390</td>\n",
       "      <td>0</td>\n",
       "    </tr>\n",
       "    <tr>\n",
       "      <th>1</th>\n",
       "      <td>410</td>\n",
       "      <td>0</td>\n",
       "    </tr>\n",
       "    <tr>\n",
       "      <th>2</th>\n",
       "      <td>430</td>\n",
       "      <td>0</td>\n",
       "    </tr>\n",
       "    <tr>\n",
       "      <th>3</th>\n",
       "      <td>460</td>\n",
       "      <td>0</td>\n",
       "    </tr>\n",
       "    <tr>\n",
       "      <th>4</th>\n",
       "      <td>420</td>\n",
       "      <td>1</td>\n",
       "    </tr>\n",
       "  </tbody>\n",
       "</table>\n",
       "</div>"
      ],
      "text/plain": [
       "   PEFR  Exposure\n",
       "0   390         0\n",
       "1   410         0\n",
       "2   430         0\n",
       "3   460         0\n",
       "4   420         1"
      ]
     },
     "execution_count": 1,
     "metadata": {},
     "output_type": "execute_result"
    }
   ],
   "source": [
    "import pandas as pd\n",
    "import numpy as np\n",
    "\n",
    "df_lung = pd.read_csv('../input/LungDisease.csv')\n",
    "df_lung.head()"
   ]
  },
  {
   "cell_type": "code",
   "execution_count": 56,
   "metadata": {},
   "outputs": [
    {
     "data": {
      "text/plain": [
       "Text(0,0.5,'PEFR')"
      ]
     },
     "execution_count": 56,
     "metadata": {},
     "output_type": "execute_result"
    },
    {
     "data": {
      "image/png": "[encoded data removed]",
      "text/plain": [
       "<matplotlib.figure.Figure at 0x1176b0ba8>"
      ]
     },
     "metadata": {},
     "output_type": "display_data"
    }
   ],
   "source": [
    "import matplotlib.pyplot as plt\n",
    "%matplotlib inline\n",
    "\n",
    "from jupyterthemes import jtplot\n",
    "jtplot.style(theme='grade3')\n",
    "\n",
    "pefr = df_lung['PEFR'].values\n",
    "expo = df_lung['Exposure'].values\n",
    "\n",
    "plt.plot(expo, pefr, 'ko')\n",
    "plt.xlabel('Exposure')\n",
    "plt.ylabel('PEFR')"
   ]
  },
  {
   "cell_type": "code",
   "execution_count": 3,
   "metadata": {},
   "outputs": [
    {
     "name": "stdout",
     "output_type": "stream",
     "text": [
      "[-4.18457649] 424.582806573957\n"
     ]
    },
    {
     "name": "stderr",
     "output_type": "stream",
     "text": [
      "/usr/local/lib/python3.6/site-packages/scipy/linalg/basic.py:1018: RuntimeWarning: internal gelsd driver lwork query error, required iwork dimension not returned. This is likely the result of LAPACK bug 0038, fixed in LAPACK 3.2.2 (released July 21, 2010). Falling back to 'gelss' driver.\n",
      "  warnings.warn(mesg, RuntimeWarning)\n"
     ]
    }
   ],
   "source": [
    "from sklearn import linear_model\n",
    "\n",
    "lin_reg = linear_model.LinearRegression()\n",
    "lin_reg.fit(expo.reshape(-1,1), pefr)\n",
    "print(lin_reg.coef_, lin_reg.intercept_)"
   ]
  },
  {
   "cell_type": "code",
   "execution_count": 4,
   "metadata": {},
   "outputs": [
    {
     "data": {
      "text/plain": [
       "Text(0,0.5,'PEFR')"
      ]
     },
     "execution_count": 4,
     "metadata": {},
     "output_type": "execute_result"
    },
    {
     "data": {
      "image/png": "[encoded data removed]",
      "text/plain": [
       "<matplotlib.figure.Figure at 0x11be6a978>"
      ]
     },
     "metadata": {},
     "output_type": "display_data"
    }
   ],
   "source": [
    "plt.plot(expo, pefr, 'ko')\n",
    "plt.plot(range(-1,25), lin_reg.predict(np.array(range(-1,25)).reshape(-1,1)), 'b--')\n",
    "plt.xlabel('Exposure')\n",
    "plt.ylabel('PEFR')"
   ]
  },
  {
   "cell_type": "code",
   "execution_count": 5,
   "metadata": {},
   "outputs": [
    {
     "data": {
      "text/plain": [
       "0.0767410228628338"
      ]
     },
     "execution_count": 5,
     "metadata": {},
     "output_type": "execute_result"
    }
   ],
   "source": [
    "lin_reg.score(expo.reshape(-1,1), pefr)"
   ]
  },
  {
   "cell_type": "markdown",
   "metadata": {},
   "source": [
    "# King County Housing Data"
   ]
  },
  {
   "cell_type": "code",
   "execution_count": 245,
   "metadata": {},
   "outputs": [
    {
     "data": {
      "text/html": [
       "<div>\n",
       "<style>\n",
       "    .dataframe thead tr:only-child th {\n",
       "        text-align: right;\n",
       "    }\n",
       "\n",
       "    .dataframe thead th {\n",
       "        text-align: left;\n",
       "    }\n",
       "\n",
       "    .dataframe tbody tr th {\n",
       "        vertical-align: top;\n",
       "    }\n",
       "</style>\n",
       "<table border=\"1\" class=\"dataframe\">\n",
       "  <thead>\n",
       "    <tr style=\"text-align: right;\">\n",
       "      <th></th>\n",
       "      <th>DocumentDate</th>\n",
       "      <th>SalePrice</th>\n",
       "      <th>PropertyID</th>\n",
       "      <th>PropertyType</th>\n",
       "      <th>ym</th>\n",
       "      <th>zhvi_px</th>\n",
       "      <th>zhvi_idx</th>\n",
       "      <th>AdjSalePrice</th>\n",
       "      <th>NbrLivingUnits</th>\n",
       "      <th>SqFtLot</th>\n",
       "      <th>...</th>\n",
       "      <th>Bathrooms</th>\n",
       "      <th>Bedrooms</th>\n",
       "      <th>BldgGrade</th>\n",
       "      <th>YrBuilt</th>\n",
       "      <th>YrRenovated</th>\n",
       "      <th>TrafficNoise</th>\n",
       "      <th>LandVal</th>\n",
       "      <th>ImpsVal</th>\n",
       "      <th>ZipCode</th>\n",
       "      <th>NewConstruction</th>\n",
       "    </tr>\n",
       "  </thead>\n",
       "  <tbody>\n",
       "    <tr>\n",
       "      <th>1</th>\n",
       "      <td>2014-09-16</td>\n",
       "      <td>280000</td>\n",
       "      <td>1000102</td>\n",
       "      <td>Multiplex</td>\n",
       "      <td>2014-09-01</td>\n",
       "      <td>405100</td>\n",
       "      <td>0.930836</td>\n",
       "      <td>300805.0</td>\n",
       "      <td>2</td>\n",
       "      <td>9373</td>\n",
       "      <td>...</td>\n",
       "      <td>3.00</td>\n",
       "      <td>6</td>\n",
       "      <td>7</td>\n",
       "      <td>1991</td>\n",
       "      <td>0</td>\n",
       "      <td>0</td>\n",
       "      <td>70000</td>\n",
       "      <td>229000</td>\n",
       "      <td>98002</td>\n",
       "      <td>False</td>\n",
       "    </tr>\n",
       "    <tr>\n",
       "      <th>2</th>\n",
       "      <td>2006-06-16</td>\n",
       "      <td>1000000</td>\n",
       "      <td>1200013</td>\n",
       "      <td>Single Family</td>\n",
       "      <td>2006-06-01</td>\n",
       "      <td>404400</td>\n",
       "      <td>0.929228</td>\n",
       "      <td>1076162.0</td>\n",
       "      <td>1</td>\n",
       "      <td>20156</td>\n",
       "      <td>...</td>\n",
       "      <td>3.75</td>\n",
       "      <td>4</td>\n",
       "      <td>10</td>\n",
       "      <td>2005</td>\n",
       "      <td>0</td>\n",
       "      <td>0</td>\n",
       "      <td>203000</td>\n",
       "      <td>590000</td>\n",
       "      <td>98166</td>\n",
       "      <td>True</td>\n",
       "    </tr>\n",
       "    <tr>\n",
       "      <th>3</th>\n",
       "      <td>2007-01-29</td>\n",
       "      <td>745000</td>\n",
       "      <td>1200019</td>\n",
       "      <td>Single Family</td>\n",
       "      <td>2007-01-01</td>\n",
       "      <td>425600</td>\n",
       "      <td>0.977941</td>\n",
       "      <td>761805.0</td>\n",
       "      <td>1</td>\n",
       "      <td>26036</td>\n",
       "      <td>...</td>\n",
       "      <td>1.75</td>\n",
       "      <td>4</td>\n",
       "      <td>8</td>\n",
       "      <td>1947</td>\n",
       "      <td>0</td>\n",
       "      <td>0</td>\n",
       "      <td>183000</td>\n",
       "      <td>275000</td>\n",
       "      <td>98166</td>\n",
       "      <td>False</td>\n",
       "    </tr>\n",
       "    <tr>\n",
       "      <th>4</th>\n",
       "      <td>2008-02-25</td>\n",
       "      <td>425000</td>\n",
       "      <td>2800016</td>\n",
       "      <td>Single Family</td>\n",
       "      <td>2008-02-01</td>\n",
       "      <td>418400</td>\n",
       "      <td>0.961397</td>\n",
       "      <td>442065.0</td>\n",
       "      <td>1</td>\n",
       "      <td>8618</td>\n",
       "      <td>...</td>\n",
       "      <td>3.75</td>\n",
       "      <td>5</td>\n",
       "      <td>7</td>\n",
       "      <td>1966</td>\n",
       "      <td>0</td>\n",
       "      <td>0</td>\n",
       "      <td>104000</td>\n",
       "      <td>229000</td>\n",
       "      <td>98168</td>\n",
       "      <td>False</td>\n",
       "    </tr>\n",
       "    <tr>\n",
       "      <th>5</th>\n",
       "      <td>2013-03-29</td>\n",
       "      <td>240000</td>\n",
       "      <td>2800024</td>\n",
       "      <td>Single Family</td>\n",
       "      <td>2013-03-01</td>\n",
       "      <td>351600</td>\n",
       "      <td>0.807904</td>\n",
       "      <td>297065.0</td>\n",
       "      <td>1</td>\n",
       "      <td>8620</td>\n",
       "      <td>...</td>\n",
       "      <td>1.75</td>\n",
       "      <td>4</td>\n",
       "      <td>7</td>\n",
       "      <td>1948</td>\n",
       "      <td>0</td>\n",
       "      <td>0</td>\n",
       "      <td>104000</td>\n",
       "      <td>205000</td>\n",
       "      <td>98168</td>\n",
       "      <td>False</td>\n",
       "    </tr>\n",
       "  </tbody>\n",
       "</table>\n",
       "<p>5 rows × 22 columns</p>\n",
       "</div>"
      ],
      "text/plain": [
       "  DocumentDate  SalePrice  PropertyID   PropertyType          ym  zhvi_px  \\\n",
       "1   2014-09-16     280000     1000102      Multiplex  2014-09-01   405100   \n",
       "2   2006-06-16    1000000     1200013  Single Family  2006-06-01   404400   \n",
       "3   2007-01-29     745000     1200019  Single Family  2007-01-01   425600   \n",
       "4   2008-02-25     425000     2800016  Single Family  2008-02-01   418400   \n",
       "5   2013-03-29     240000     2800024  Single Family  2013-03-01   351600   \n",
       "\n",
       "   zhvi_idx  AdjSalePrice  NbrLivingUnits  SqFtLot       ...         \\\n",
       "1  0.930836      300805.0               2     9373       ...          \n",
       "2  0.929228     1076162.0               1    20156       ...          \n",
       "3  0.977941      761805.0               1    26036       ...          \n",
       "4  0.961397      442065.0               1     8618       ...          \n",
       "5  0.807904      297065.0               1     8620       ...          \n",
       "\n",
       "   Bathrooms  Bedrooms  BldgGrade  YrBuilt  YrRenovated  TrafficNoise  \\\n",
       "1       3.00         6          7     1991            0             0   \n",
       "2       3.75         4         10     2005            0             0   \n",
       "3       1.75         4          8     1947            0             0   \n",
       "4       3.75         5          7     1966            0             0   \n",
       "5       1.75         4          7     1948            0             0   \n",
       "\n",
       "   LandVal  ImpsVal  ZipCode  NewConstruction  \n",
       "1    70000   229000    98002            False  \n",
       "2   203000   590000    98166             True  \n",
       "3   183000   275000    98166            False  \n",
       "4   104000   229000    98168            False  \n",
       "5   104000   205000    98168            False  \n",
       "\n",
       "[5 rows x 22 columns]"
      ]
     },
     "execution_count": 245,
     "metadata": {},
     "output_type": "execute_result"
    }
   ],
   "source": [
    "df_house = pd.read_csv('../input/house_sales.csv', sep='\\t')\n",
    "df_house.head()"
   ]
  },
  {
   "cell_type": "code",
   "execution_count": 7,
   "metadata": {},
   "outputs": [
    {
     "data": {
      "text/plain": [
       "array([[2.4000e+03, 9.3730e+03, 3.0000e+00, 6.0000e+00, 7.0000e+00],\n",
       "       [3.7640e+03, 2.0156e+04, 3.7500e+00, 4.0000e+00, 1.0000e+01],\n",
       "       [2.0600e+03, 2.6036e+04, 1.7500e+00, 4.0000e+00, 8.0000e+00],\n",
       "       ...,\n",
       "       [1.0700e+03, 1.1170e+04, 1.0000e+00, 4.0000e+00, 6.0000e+00],\n",
       "       [1.3450e+03, 6.2230e+03, 2.0000e+00, 3.0000e+00, 7.0000e+00],\n",
       "       [7.9000e+02, 4.4000e+03, 1.5000e+00, 3.0000e+00, 7.0000e+00]])"
      ]
     },
     "execution_count": 7,
     "metadata": {},
     "output_type": "execute_result"
    }
   ],
   "source": [
    "X = df_house[['SqFtTotLiving', 'SqFtLot', 'Bathrooms', 'Bedrooms', 'BldgGrade']].values\n",
    "X"
   ]
  },
  {
   "cell_type": "code",
   "execution_count": 8,
   "metadata": {},
   "outputs": [
    {
     "data": {
      "text/plain": [
       "array([ 300805., 1076162.,  761805., ...,  220744.,  342207.,  475489.])"
      ]
     },
     "execution_count": 8,
     "metadata": {},
     "output_type": "execute_result"
    }
   ],
   "source": [
    "y = df_house['AdjSalePrice'].values\n",
    "y"
   ]
  },
  {
   "cell_type": "code",
   "execution_count": 9,
   "metadata": {},
   "outputs": [
    {
     "data": {
      "text/plain": [
       "LinearRegression(copy_X=True, fit_intercept=True, n_jobs=1, normalize=False)"
      ]
     },
     "execution_count": 9,
     "metadata": {},
     "output_type": "execute_result"
    }
   ],
   "source": [
    "lin_reg = linear_model.LinearRegression()\n",
    "lin_reg.fit(X, y)"
   ]
  },
  {
   "cell_type": "code",
   "execution_count": 10,
   "metadata": {},
   "outputs": [
    {
     "data": {
      "text/plain": [
       "0.5406641508395744"
      ]
     },
     "execution_count": 10,
     "metadata": {},
     "output_type": "execute_result"
    }
   ],
   "source": [
    "lin_reg.score(X, y)"
   ]
  },
  {
   "cell_type": "code",
   "execution_count": 11,
   "metadata": {},
   "outputs": [
    {
     "name": "stdout",
     "output_type": "stream",
     "text": [
      "[ 2.28832107e+02 -6.05060092e-02 -1.94380990e+04 -4.77811534e+04\n",
      "  1.06117210e+05] -521924.72203797416\n"
     ]
    }
   ],
   "source": [
    "print(lin_reg.coef_, lin_reg.intercept_)"
   ]
  },
  {
   "cell_type": "code",
   "execution_count": 12,
   "metadata": {},
   "outputs": [
    {
     "data": {
      "text/plain": [
       "0.5406641508395744"
      ]
     },
     "execution_count": 12,
     "metadata": {},
     "output_type": "execute_result"
    }
   ],
   "source": [
    "lin_reg.score(X, y)"
   ]
  },
  {
   "cell_type": "code",
   "execution_count": 13,
   "metadata": {},
   "outputs": [
    {
     "data": {
      "text/html": [
       "<table class=\"simpletable\">\n",
       "<caption>OLS Regression Results</caption>\n",
       "<tr>\n",
       "  <th>Dep. Variable:</th>            <td>y</td>        <th>  R-squared:         </th>  <td>   0.541</td>  \n",
       "</tr>\n",
       "<tr>\n",
       "  <th>Model:</th>                   <td>OLS</td>       <th>  Adj. R-squared:    </th>  <td>   0.541</td>  \n",
       "</tr>\n",
       "<tr>\n",
       "  <th>Method:</th>             <td>Least Squares</td>  <th>  F-statistic:       </th>  <td>   5340.</td>  \n",
       "</tr>\n",
       "<tr>\n",
       "  <th>Date:</th>             <td>Mon, 20 Aug 2018</td> <th>  Prob (F-statistic):</th>   <td>  0.00</td>   \n",
       "</tr>\n",
       "<tr>\n",
       "  <th>Time:</th>                 <td>08:52:11</td>     <th>  Log-Likelihood:    </th> <td>-3.1520e+05</td>\n",
       "</tr>\n",
       "<tr>\n",
       "  <th>No. Observations:</th>      <td> 22689</td>      <th>  AIC:               </th>  <td>6.304e+05</td> \n",
       "</tr>\n",
       "<tr>\n",
       "  <th>Df Residuals:</th>          <td> 22683</td>      <th>  BIC:               </th>  <td>6.305e+05</td> \n",
       "</tr>\n",
       "<tr>\n",
       "  <th>Df Model:</th>              <td>     5</td>      <th>                     </th>      <td> </td>     \n",
       "</tr>\n",
       "<tr>\n",
       "  <th>Covariance Type:</th>      <td>nonrobust</td>    <th>                     </th>      <td> </td>     \n",
       "</tr>\n",
       "</table>\n",
       "<table class=\"simpletable\">\n",
       "<tr>\n",
       "    <td></td>       <th>coef</th>     <th>std err</th>      <th>t</th>      <th>P>|t|</th>  <th>[0.025</th>    <th>0.975]</th>  \n",
       "</tr>\n",
       "<tr>\n",
       "  <th>const</th> <td>-5.219e+05</td> <td> 1.57e+04</td> <td>  -33.349</td> <td> 0.000</td> <td>-5.53e+05</td> <td>-4.91e+05</td>\n",
       "</tr>\n",
       "<tr>\n",
       "  <th>x1</th>    <td>  228.8321</td> <td>    3.898</td> <td>   58.699</td> <td> 0.000</td> <td>  221.191</td> <td>  236.473</td>\n",
       "</tr>\n",
       "<tr>\n",
       "  <th>x2</th>    <td>   -0.0605</td> <td>    0.061</td> <td>   -0.989</td> <td> 0.323</td> <td>   -0.180</td> <td>    0.059</td>\n",
       "</tr>\n",
       "<tr>\n",
       "  <th>x3</th>    <td>-1.944e+04</td> <td> 3625.219</td> <td>   -5.362</td> <td> 0.000</td> <td>-2.65e+04</td> <td>-1.23e+04</td>\n",
       "</tr>\n",
       "<tr>\n",
       "  <th>x4</th>    <td>-4.778e+04</td> <td> 2489.443</td> <td>  -19.194</td> <td> 0.000</td> <td>-5.27e+04</td> <td>-4.29e+04</td>\n",
       "</tr>\n",
       "<tr>\n",
       "  <th>x5</th>    <td> 1.061e+05</td> <td> 2396.136</td> <td>   44.287</td> <td> 0.000</td> <td> 1.01e+05</td> <td> 1.11e+05</td>\n",
       "</tr>\n",
       "</table>\n",
       "<table class=\"simpletable\">\n",
       "<tr>\n",
       "  <th>Omnibus:</th>       <td>29679.186</td> <th>  Durbin-Watson:     </th>   <td>   1.247</td>  \n",
       "</tr>\n",
       "<tr>\n",
       "  <th>Prob(Omnibus):</th>  <td> 0.000</td>   <th>  Jarque-Bera (JB):  </th> <td>19394127.212</td>\n",
       "</tr>\n",
       "<tr>\n",
       "  <th>Skew:</th>           <td> 6.889</td>   <th>  Prob(JB):          </th>   <td>    0.00</td>  \n",
       "</tr>\n",
       "<tr>\n",
       "  <th>Kurtosis:</th>       <td>145.565</td>  <th>  Cond. No.          </th>   <td>2.86e+05</td>  \n",
       "</tr>\n",
       "</table><br/><br/>Warnings:<br/>[1] Standard Errors assume that the covariance matrix of the errors is correctly specified.<br/>[2] The condition number is large, 2.86e+05. This might indicate that there are<br/>strong multicollinearity or other numerical problems."
      ],
      "text/plain": [
       "<class 'statsmodels.iolib.summary.Summary'>\n",
       "\"\"\"\n",
       "                            OLS Regression Results                            \n",
       "==============================================================================\n",
       "Dep. Variable:                      y   R-squared:                       0.541\n",
       "Model:                            OLS   Adj. R-squared:                  0.541\n",
       "Method:                 Least Squares   F-statistic:                     5340.\n",
       "Date:                Mon, 20 Aug 2018   Prob (F-statistic):               0.00\n",
       "Time:                        08:52:11   Log-Likelihood:            -3.1520e+05\n",
       "No. Observations:               22689   AIC:                         6.304e+05\n",
       "Df Residuals:                   22683   BIC:                         6.305e+05\n",
       "Df Model:                           5                                         \n",
       "Covariance Type:            nonrobust                                         \n",
       "==============================================================================\n",
       "                 coef    std err          t      P>|t|      [0.025      0.975]\n",
       "------------------------------------------------------------------------------\n",
       "const      -5.219e+05   1.57e+04    -33.349      0.000   -5.53e+05   -4.91e+05\n",
       "x1           228.8321      3.898     58.699      0.000     221.191     236.473\n",
       "x2            -0.0605      0.061     -0.989      0.323      -0.180       0.059\n",
       "x3         -1.944e+04   3625.219     -5.362      0.000   -2.65e+04   -1.23e+04\n",
       "x4         -4.778e+04   2489.443    -19.194      0.000   -5.27e+04   -4.29e+04\n",
       "x5          1.061e+05   2396.136     44.287      0.000    1.01e+05    1.11e+05\n",
       "==============================================================================\n",
       "Omnibus:                    29679.186   Durbin-Watson:                   1.247\n",
       "Prob(Omnibus):                  0.000   Jarque-Bera (JB):         19394127.212\n",
       "Skew:                           6.889   Prob(JB):                         0.00\n",
       "Kurtosis:                     145.565   Cond. No.                     2.86e+05\n",
       "==============================================================================\n",
       "\n",
       "Warnings:\n",
       "[1] Standard Errors assume that the covariance matrix of the errors is correctly specified.\n",
       "[2] The condition number is large, 2.86e+05. This might indicate that there are\n",
       "strong multicollinearity or other numerical problems.\n",
       "\"\"\""
      ]
     },
     "execution_count": 13,
     "metadata": {},
     "output_type": "execute_result"
    }
   ],
   "source": [
    "import statsmodels.api as sm\n",
    "\n",
    "lin_reg_sm = sm.OLS(y, sm.add_constant(X)).fit()\n",
    "lin_reg_sm.summary()"
   ]
  },
  {
   "cell_type": "code",
   "execution_count": 14,
   "metadata": {},
   "outputs": [
    {
     "data": {
      "text/plain": [
       "(array([0.58911134, 0.54811216, 0.52751099, 0.48017957, 0.55373405]),\n",
       " 0.5397296205301588)"
      ]
     },
     "execution_count": 14,
     "metadata": {},
     "output_type": "execute_result"
    }
   ],
   "source": [
    "from sklearn.model_selection import cross_val_score\n",
    "\n",
    "scores = cross_val_score(lin_reg, X, y, cv = 5)\n",
    "scores, np.mean(scores)"
   ]
  },
  {
   "cell_type": "code",
   "execution_count": 15,
   "metadata": {},
   "outputs": [
    {
     "data": {
      "text/plain": [
       "Lasso(alpha=0.1, copy_X=True, fit_intercept=True, max_iter=1000,\n",
       "   normalize=False, positive=False, precompute=False, random_state=None,\n",
       "   selection='cyclic', tol=0.0001, warm_start=False)"
      ]
     },
     "execution_count": 15,
     "metadata": {},
     "output_type": "execute_result"
    }
   ],
   "source": [
    "lasso_reg = linear_model.Lasso(alpha = 0.1)\n",
    "lasso_reg.fit(X, y)"
   ]
  },
  {
   "cell_type": "code",
   "execution_count": 16,
   "metadata": {},
   "outputs": [
    {
     "data": {
      "text/plain": [
       "0.5406641508390675"
      ]
     },
     "execution_count": 16,
     "metadata": {},
     "output_type": "execute_result"
    }
   ],
   "source": [
    "lasso_reg.score(X, y)"
   ]
  },
  {
   "cell_type": "code",
   "execution_count": 17,
   "metadata": {},
   "outputs": [
    {
     "data": {
      "text/plain": [
       "LassoLarsIC(copy_X=True, criterion='aic', eps=2.220446049250313e-16,\n",
       "      fit_intercept=True, max_iter=500, normalize=True, positive=False,\n",
       "      precompute='auto', verbose=False)"
      ]
     },
     "execution_count": 17,
     "metadata": {},
     "output_type": "execute_result"
    }
   ],
   "source": [
    "lasso_aic = linear_model.LassoLarsIC(criterion='aic')\n",
    "lasso_aic.fit(X, y)"
   ]
  },
  {
   "cell_type": "code",
   "execution_count": 18,
   "metadata": {},
   "outputs": [
    {
     "data": {
      "text/plain": [
       "(array([1778.75352986, 1560.7061347 ,  120.29392337,   24.40480277,\n",
       "           7.65722775,    0.        ]),\n",
       " array([22689.        , 20167.46353789, 10690.23857735, 10451.63030783,\n",
       "        10432.61518427, 10431.8710816 ]))"
      ]
     },
     "execution_count": 18,
     "metadata": {},
     "output_type": "execute_result"
    }
   ],
   "source": [
    "lasso_aic.alphas_, lasso_aic.criterion_"
   ]
  },
  {
   "cell_type": "code",
   "execution_count": 19,
   "metadata": {},
   "outputs": [
    {
     "name": "stderr",
     "output_type": "stream",
     "text": [
      "/usr/local/lib/python3.6/site-packages/ipykernel_launcher.py:1: RuntimeWarning: divide by zero encountered in log10\n",
      "  \"\"\"Entry point for launching an IPython kernel.\n"
     ]
    },
    {
     "data": {
      "text/plain": [
       "Text(0,0.5,'AIC')"
      ]
     },
     "execution_count": 19,
     "metadata": {},
     "output_type": "execute_result"
    },
    {
     "data": {
      "image/png": "[encoded data removed]",
      "text/plain": [
       "<matplotlib.figure.Figure at 0x11e27dbe0>"
      ]
     },
     "metadata": {},
     "output_type": "display_data"
    }
   ],
   "source": [
    "plt.plot(-np.log10(lasso_aic.alphas_), lasso_aic.criterion_, 'b--')\n",
    "plt.xlabel('-log10(alpha)')\n",
    "plt.ylabel('AIC')"
   ]
  },
  {
   "cell_type": "code",
   "execution_count": 37,
   "metadata": {},
   "outputs": [
    {
     "data": {
      "text/plain": [
       "array([2014., 2006., 2007., ..., 2012., 2006., 2007.])"
      ]
     },
     "execution_count": 37,
     "metadata": {},
     "output_type": "execute_result"
    }
   ],
   "source": [
    "date = df_house['DocumentDate'].values\n",
    "for i in range(len(date)):\n",
    "    date[i] = int(date[i][:4])\n",
    "date.astype(float)"
   ]
  },
  {
   "cell_type": "code",
   "execution_count": 50,
   "metadata": {},
   "outputs": [
    {
     "name": "stdout",
     "output_type": "stream",
     "text": [
      "0.19.2\n"
     ]
    },
    {
     "name": "stderr",
     "output_type": "stream",
     "text": [
      "/usr/local/lib/python3.6/site-packages/sklearn/linear_model/stochastic_gradient.py:128: FutureWarning: max_iter and tol parameters have been added in <class 'sklearn.linear_model.stochastic_gradient.SGDRegressor'> in 0.19. If both are left unset, they default to max_iter=5 and tol=None. If tol is not None, max_iter defaults to max_iter=1000. From 0.21, default max_iter will be 1000, and default tol will be 1e-3.\n",
      "  \"and default tol will be 1e-3.\" % type(self), FutureWarning)\n"
     ]
    }
   ],
   "source": [
    "lin_reg = linear_model.SGDRegressor()\n",
    "lin_reg.fit(X, y, sample_weight = date)\n",
    "import sklearn\n",
    "print(sklearn.__version__)"
   ]
  },
  {
   "cell_type": "code",
   "execution_count": 27,
   "metadata": {},
   "outputs": [
    {
     "name": "stdout",
     "output_type": "stream",
     "text": [
      "[ 2.28832107e+02 -6.05060092e-02 -1.94380990e+04 -4.77811534e+04\n",
      "  1.06117210e+05] -521924.72203797416\n"
     ]
    }
   ],
   "source": [
    "print(lin_reg.coef_, lin_reg.intercept_)"
   ]
  },
  {
   "cell_type": "code",
   "execution_count": 54,
   "metadata": {},
   "outputs": [],
   "source": [
    "scores = []\n",
    "for iB in range(1000):\n",
    "    indices = np.random.choice(len(y), len(y), replace=True)\n",
    "    lin_reg = linear_model.LinearRegression()\n",
    "    lin_reg.fit(X[indices], y[indices])\n",
    "    scores.append(lin_reg.score(X[indices], y[indices]))"
   ]
  },
  {
   "cell_type": "code",
   "execution_count": 62,
   "metadata": {},
   "outputs": [
    {
     "data": {
      "text/plain": [
       "Text(0,0.5,'RMS')"
      ]
     },
     "execution_count": 62,
     "metadata": {},
     "output_type": "execute_result"
    },
    {
     "data": {
      "image/png": "[encoded data removed]",
      "text/plain": [
       "<matplotlib.figure.Figure at 0x120b001d0>"
      ]
     },
     "metadata": {},
     "output_type": "display_data"
    }
   ],
   "source": [
    "plt.boxplot(scores, sym='k')\n",
    "plt.title(\"({}, {})\".format(np.percentile(scores, 2.5), np.percentile(scores, 97.5)))\n",
    "plt.ylabel('RMS')"
   ]
  },
  {
   "cell_type": "code",
   "execution_count": 82,
   "metadata": {},
   "outputs": [],
   "source": [
    "X_predict, y_predict = [X[0]], y[0]\n",
    "y_predicts = []\n",
    "for iB in range(1000):\n",
    "    indices = np.random.choice(len(y), len(y), replace=True)\n",
    "    lin_reg = linear_model.LinearRegression()\n",
    "    lin_reg.fit(X[indices], y[indices])\n",
    "    residual_index = np.random.choice(len(y))\n",
    "    residual = y[residual_index] - lin_reg.predict([X[residual_index]])[0]\n",
    "    y_predicts.append(lin_reg.predict(X_predict)[0] + residual)"
   ]
  },
  {
   "cell_type": "code",
   "execution_count": 85,
   "metadata": {},
   "outputs": [
    {
     "data": {
      "text/plain": [
       "<matplotlib.lines.Line2D at 0x125f227f0>"
      ]
     },
     "execution_count": 85,
     "metadata": {},
     "output_type": "execute_result"
    },
    {
     "data": {
      "image/png": "[encoded data removed]",
      "text/plain": [
       "<matplotlib.figure.Figure at 0x125f22a20>"
      ]
     },
     "metadata": {},
     "output_type": "display_data"
    }
   ],
   "source": [
    "plt.boxplot(y_predicts, sym='k')\n",
    "plt.axhline(y[0], color='r')\n",
    "#plt.ylim([0,750000])"
   ]
  },
  {
   "cell_type": "code",
   "execution_count": 90,
   "metadata": {},
   "outputs": [
    {
     "name": "stdout",
     "output_type": "stream",
     "text": [
      "<class 'pandas.core.frame.DataFrame'>\n",
      "Int64Index: 22689 entries, 1 to 27063\n",
      "Data columns (total 22 columns):\n",
      "DocumentDate       22689 non-null object\n",
      "SalePrice          22689 non-null int64\n",
      "PropertyID         22689 non-null int64\n",
      "PropertyType       22689 non-null object\n",
      "ym                 22689 non-null object\n",
      "zhvi_px            22689 non-null int64\n",
      "zhvi_idx           22689 non-null float64\n",
      "AdjSalePrice       22689 non-null float64\n",
      "NbrLivingUnits     22689 non-null int64\n",
      "SqFtLot            22689 non-null int64\n",
      "SqFtTotLiving      22689 non-null int64\n",
      "SqFtFinBasement    22689 non-null int64\n",
      "Bathrooms          22689 non-null float64\n",
      "Bedrooms           22689 non-null int64\n",
      "BldgGrade          22689 non-null int64\n",
      "YrBuilt            22689 non-null int64\n",
      "YrRenovated        22689 non-null int64\n",
      "TrafficNoise       22689 non-null int64\n",
      "LandVal            22689 non-null int64\n",
      "ImpsVal            22689 non-null int64\n",
      "ZipCode            22689 non-null int64\n",
      "NewConstruction    22689 non-null bool\n",
      "dtypes: bool(1), float64(3), int64(15), object(3)\n",
      "memory usage: 4.5+ MB\n"
     ]
    }
   ],
   "source": [
    "df_house.info()"
   ]
  },
  {
   "cell_type": "code",
   "execution_count": 89,
   "metadata": {},
   "outputs": [
    {
     "data": {
      "text/plain": [
       "Single Family    20722\n",
       "Townhouse         1710\n",
       "Multiplex          257\n",
       "Name: PropertyType, dtype: int64"
      ]
     },
     "execution_count": 89,
     "metadata": {},
     "output_type": "execute_result"
    }
   ],
   "source": [
    "df_house['PropertyType'].value_counts()"
   ]
  },
  {
   "cell_type": "code",
   "execution_count": 116,
   "metadata": {},
   "outputs": [
    {
     "data": {
      "text/html": [
       "<div>\n",
       "<style>\n",
       "    .dataframe thead tr:only-child th {\n",
       "        text-align: right;\n",
       "    }\n",
       "\n",
       "    .dataframe thead th {\n",
       "        text-align: left;\n",
       "    }\n",
       "\n",
       "    .dataframe tbody tr th {\n",
       "        vertical-align: top;\n",
       "    }\n",
       "</style>\n",
       "<table border=\"1\" class=\"dataframe\">\n",
       "  <thead>\n",
       "    <tr style=\"text-align: right;\">\n",
       "      <th></th>\n",
       "      <th>Multiplex</th>\n",
       "      <th>Single</th>\n",
       "      <th>Townhouse</th>\n",
       "    </tr>\n",
       "  </thead>\n",
       "  <tbody>\n",
       "    <tr>\n",
       "      <th>0</th>\n",
       "      <td>1.0</td>\n",
       "      <td>0.0</td>\n",
       "      <td>0.0</td>\n",
       "    </tr>\n",
       "    <tr>\n",
       "      <th>1</th>\n",
       "      <td>0.0</td>\n",
       "      <td>1.0</td>\n",
       "      <td>0.0</td>\n",
       "    </tr>\n",
       "    <tr>\n",
       "      <th>2</th>\n",
       "      <td>0.0</td>\n",
       "      <td>1.0</td>\n",
       "      <td>0.0</td>\n",
       "    </tr>\n",
       "    <tr>\n",
       "      <th>3</th>\n",
       "      <td>0.0</td>\n",
       "      <td>1.0</td>\n",
       "      <td>0.0</td>\n",
       "    </tr>\n",
       "    <tr>\n",
       "      <th>4</th>\n",
       "      <td>0.0</td>\n",
       "      <td>1.0</td>\n",
       "      <td>0.0</td>\n",
       "    </tr>\n",
       "    <tr>\n",
       "      <th>5</th>\n",
       "      <td>0.0</td>\n",
       "      <td>0.0</td>\n",
       "      <td>1.0</td>\n",
       "    </tr>\n",
       "    <tr>\n",
       "      <th>6</th>\n",
       "      <td>0.0</td>\n",
       "      <td>1.0</td>\n",
       "      <td>0.0</td>\n",
       "    </tr>\n",
       "    <tr>\n",
       "      <th>7</th>\n",
       "      <td>0.0</td>\n",
       "      <td>1.0</td>\n",
       "      <td>0.0</td>\n",
       "    </tr>\n",
       "    <tr>\n",
       "      <th>8</th>\n",
       "      <td>0.0</td>\n",
       "      <td>1.0</td>\n",
       "      <td>0.0</td>\n",
       "    </tr>\n",
       "    <tr>\n",
       "      <th>9</th>\n",
       "      <td>1.0</td>\n",
       "      <td>0.0</td>\n",
       "      <td>0.0</td>\n",
       "    </tr>\n",
       "  </tbody>\n",
       "</table>\n",
       "</div>"
      ],
      "text/plain": [
       "   Multiplex  Single  Townhouse\n",
       "0        1.0     0.0        0.0\n",
       "1        0.0     1.0        0.0\n",
       "2        0.0     1.0        0.0\n",
       "3        0.0     1.0        0.0\n",
       "4        0.0     1.0        0.0\n",
       "5        0.0     0.0        1.0\n",
       "6        0.0     1.0        0.0\n",
       "7        0.0     1.0        0.0\n",
       "8        0.0     1.0        0.0\n",
       "9        1.0     0.0        0.0"
      ]
     },
     "execution_count": 116,
     "metadata": {},
     "output_type": "execute_result"
    }
   ],
   "source": [
    "from sklearn.preprocessing import LabelEncoder\n",
    "from tensorflow import keras\n",
    "\n",
    "le = LabelEncoder()\n",
    "df_house['PropertyType'] = le.fit_transform(df_house['PropertyType'])\n",
    "emb_cat = pd.DataFrame(keras.utils.to_categorical(df_house['PropertyType']),\n",
    "                      columns=['Multiplex', 'Single', 'Townhouse'])\n",
    "emb_cat.head(10)"
   ]
  },
  {
   "cell_type": "code",
   "execution_count": 117,
   "metadata": {},
   "outputs": [
    {
     "data": {
      "text/html": [
       "<div>\n",
       "<style>\n",
       "    .dataframe thead tr:only-child th {\n",
       "        text-align: right;\n",
       "    }\n",
       "\n",
       "    .dataframe thead th {\n",
       "        text-align: left;\n",
       "    }\n",
       "\n",
       "    .dataframe tbody tr th {\n",
       "        vertical-align: top;\n",
       "    }\n",
       "</style>\n",
       "<table border=\"1\" class=\"dataframe\">\n",
       "  <thead>\n",
       "    <tr style=\"text-align: right;\">\n",
       "      <th></th>\n",
       "      <th>level_0</th>\n",
       "      <th>index</th>\n",
       "      <th>DocumentDate</th>\n",
       "      <th>SalePrice</th>\n",
       "      <th>PropertyID</th>\n",
       "      <th>PropertyType</th>\n",
       "      <th>ym</th>\n",
       "      <th>zhvi_px</th>\n",
       "      <th>zhvi_idx</th>\n",
       "      <th>AdjSalePrice</th>\n",
       "      <th>...</th>\n",
       "      <th>YrBuilt</th>\n",
       "      <th>YrRenovated</th>\n",
       "      <th>TrafficNoise</th>\n",
       "      <th>LandVal</th>\n",
       "      <th>ImpsVal</th>\n",
       "      <th>ZipCode</th>\n",
       "      <th>NewConstruction</th>\n",
       "      <th>Multiplex</th>\n",
       "      <th>Single</th>\n",
       "      <th>Townhouse</th>\n",
       "    </tr>\n",
       "  </thead>\n",
       "  <tbody>\n",
       "    <tr>\n",
       "      <th>0</th>\n",
       "      <td>0</td>\n",
       "      <td>1</td>\n",
       "      <td>2014-09-16</td>\n",
       "      <td>280000</td>\n",
       "      <td>1000102</td>\n",
       "      <td>0</td>\n",
       "      <td>2014-09-01</td>\n",
       "      <td>405100</td>\n",
       "      <td>0.930836</td>\n",
       "      <td>300805.0</td>\n",
       "      <td>...</td>\n",
       "      <td>1991</td>\n",
       "      <td>0</td>\n",
       "      <td>0</td>\n",
       "      <td>70000</td>\n",
       "      <td>229000</td>\n",
       "      <td>98002</td>\n",
       "      <td>False</td>\n",
       "      <td>1.0</td>\n",
       "      <td>0.0</td>\n",
       "      <td>0.0</td>\n",
       "    </tr>\n",
       "    <tr>\n",
       "      <th>1</th>\n",
       "      <td>1</td>\n",
       "      <td>2</td>\n",
       "      <td>2006-06-16</td>\n",
       "      <td>1000000</td>\n",
       "      <td>1200013</td>\n",
       "      <td>1</td>\n",
       "      <td>2006-06-01</td>\n",
       "      <td>404400</td>\n",
       "      <td>0.929228</td>\n",
       "      <td>1076162.0</td>\n",
       "      <td>...</td>\n",
       "      <td>2005</td>\n",
       "      <td>0</td>\n",
       "      <td>0</td>\n",
       "      <td>203000</td>\n",
       "      <td>590000</td>\n",
       "      <td>98166</td>\n",
       "      <td>True</td>\n",
       "      <td>0.0</td>\n",
       "      <td>1.0</td>\n",
       "      <td>0.0</td>\n",
       "    </tr>\n",
       "    <tr>\n",
       "      <th>2</th>\n",
       "      <td>2</td>\n",
       "      <td>3</td>\n",
       "      <td>2007-01-29</td>\n",
       "      <td>745000</td>\n",
       "      <td>1200019</td>\n",
       "      <td>1</td>\n",
       "      <td>2007-01-01</td>\n",
       "      <td>425600</td>\n",
       "      <td>0.977941</td>\n",
       "      <td>761805.0</td>\n",
       "      <td>...</td>\n",
       "      <td>1947</td>\n",
       "      <td>0</td>\n",
       "      <td>0</td>\n",
       "      <td>183000</td>\n",
       "      <td>275000</td>\n",
       "      <td>98166</td>\n",
       "      <td>False</td>\n",
       "      <td>0.0</td>\n",
       "      <td>1.0</td>\n",
       "      <td>0.0</td>\n",
       "    </tr>\n",
       "    <tr>\n",
       "      <th>3</th>\n",
       "      <td>3</td>\n",
       "      <td>4</td>\n",
       "      <td>2008-02-25</td>\n",
       "      <td>425000</td>\n",
       "      <td>2800016</td>\n",
       "      <td>1</td>\n",
       "      <td>2008-02-01</td>\n",
       "      <td>418400</td>\n",
       "      <td>0.961397</td>\n",
       "      <td>442065.0</td>\n",
       "      <td>...</td>\n",
       "      <td>1966</td>\n",
       "      <td>0</td>\n",
       "      <td>0</td>\n",
       "      <td>104000</td>\n",
       "      <td>229000</td>\n",
       "      <td>98168</td>\n",
       "      <td>False</td>\n",
       "      <td>0.0</td>\n",
       "      <td>1.0</td>\n",
       "      <td>0.0</td>\n",
       "    </tr>\n",
       "    <tr>\n",
       "      <th>4</th>\n",
       "      <td>4</td>\n",
       "      <td>5</td>\n",
       "      <td>2013-03-29</td>\n",
       "      <td>240000</td>\n",
       "      <td>2800024</td>\n",
       "      <td>1</td>\n",
       "      <td>2013-03-01</td>\n",
       "      <td>351600</td>\n",
       "      <td>0.807904</td>\n",
       "      <td>297065.0</td>\n",
       "      <td>...</td>\n",
       "      <td>1948</td>\n",
       "      <td>0</td>\n",
       "      <td>0</td>\n",
       "      <td>104000</td>\n",
       "      <td>205000</td>\n",
       "      <td>98168</td>\n",
       "      <td>False</td>\n",
       "      <td>0.0</td>\n",
       "      <td>1.0</td>\n",
       "      <td>0.0</td>\n",
       "    </tr>\n",
       "  </tbody>\n",
       "</table>\n",
       "<p>5 rows × 27 columns</p>\n",
       "</div>"
      ],
      "text/plain": [
       "   level_0  index DocumentDate  SalePrice  PropertyID  PropertyType  \\\n",
       "0        0      1   2014-09-16     280000     1000102             0   \n",
       "1        1      2   2006-06-16    1000000     1200013             1   \n",
       "2        2      3   2007-01-29     745000     1200019             1   \n",
       "3        3      4   2008-02-25     425000     2800016             1   \n",
       "4        4      5   2013-03-29     240000     2800024             1   \n",
       "\n",
       "           ym  zhvi_px  zhvi_idx  AdjSalePrice    ...      YrBuilt  \\\n",
       "0  2014-09-01   405100  0.930836      300805.0    ...         1991   \n",
       "1  2006-06-01   404400  0.929228     1076162.0    ...         2005   \n",
       "2  2007-01-01   425600  0.977941      761805.0    ...         1947   \n",
       "3  2008-02-01   418400  0.961397      442065.0    ...         1966   \n",
       "4  2013-03-01   351600  0.807904      297065.0    ...         1948   \n",
       "\n",
       "   YrRenovated  TrafficNoise  LandVal  ImpsVal  ZipCode  NewConstruction  \\\n",
       "0            0             0    70000   229000    98002            False   \n",
       "1            0             0   203000   590000    98166             True   \n",
       "2            0             0   183000   275000    98166            False   \n",
       "3            0             0   104000   229000    98168            False   \n",
       "4            0             0   104000   205000    98168            False   \n",
       "\n",
       "   Multiplex  Single  Townhouse  \n",
       "0        1.0     0.0        0.0  \n",
       "1        0.0     1.0        0.0  \n",
       "2        0.0     1.0        0.0  \n",
       "3        0.0     1.0        0.0  \n",
       "4        0.0     1.0        0.0  \n",
       "\n",
       "[5 rows x 27 columns]"
      ]
     },
     "execution_count": 117,
     "metadata": {},
     "output_type": "execute_result"
    }
   ],
   "source": [
    "df_house.reset_index(inplace=True)\n",
    "df_house = pd.concat([df_house, emb_cat], axis=1)\n",
    "df_house.head()"
   ]
  },
  {
   "cell_type": "code",
   "execution_count": 125,
   "metadata": {},
   "outputs": [],
   "source": [
    "X = df_house[['SqFtTotLiving', 'SqFtLot', 'SqFtLot', 'Bathrooms', 'Bedrooms', 'BldgGrade', \n",
    "             'Townhouse', 'Single']]\n",
    "y = df_house[['AdjSalePrice']]"
   ]
  },
  {
   "cell_type": "code",
   "execution_count": 126,
   "metadata": {},
   "outputs": [
    {
     "data": {
      "text/html": [
       "<table class=\"simpletable\">\n",
       "<caption>OLS Regression Results</caption>\n",
       "<tr>\n",
       "  <th>Dep. Variable:</th>      <td>AdjSalePrice</td>   <th>  R-squared:         </th>  <td>   0.542</td>  \n",
       "</tr>\n",
       "<tr>\n",
       "  <th>Model:</th>                   <td>OLS</td>       <th>  Adj. R-squared:    </th>  <td>   0.541</td>  \n",
       "</tr>\n",
       "<tr>\n",
       "  <th>Method:</th>             <td>Least Squares</td>  <th>  F-statistic:       </th>  <td>   3827.</td>  \n",
       "</tr>\n",
       "<tr>\n",
       "  <th>Date:</th>             <td>Mon, 20 Aug 2018</td> <th>  Prob (F-statistic):</th>   <td>  0.00</td>   \n",
       "</tr>\n",
       "<tr>\n",
       "  <th>Time:</th>                 <td>11:07:18</td>     <th>  Log-Likelihood:    </th> <td>-3.1517e+05</td>\n",
       "</tr>\n",
       "<tr>\n",
       "  <th>No. Observations:</th>      <td> 22689</td>      <th>  AIC:               </th>  <td>6.304e+05</td> \n",
       "</tr>\n",
       "<tr>\n",
       "  <th>Df Residuals:</th>          <td> 22681</td>      <th>  BIC:               </th>  <td>6.304e+05</td> \n",
       "</tr>\n",
       "<tr>\n",
       "  <th>Df Model:</th>              <td>     7</td>      <th>                     </th>      <td> </td>     \n",
       "</tr>\n",
       "<tr>\n",
       "  <th>Covariance Type:</th>      <td>nonrobust</td>    <th>                     </th>      <td> </td>     \n",
       "</tr>\n",
       "</table>\n",
       "<table class=\"simpletable\">\n",
       "<tr>\n",
       "        <td></td>           <th>coef</th>     <th>std err</th>      <th>t</th>      <th>P>|t|</th>  <th>[0.025</th>    <th>0.975]</th>  \n",
       "</tr>\n",
       "<tr>\n",
       "  <th>const</th>         <td>-4.469e+05</td> <td> 2.24e+04</td> <td>  -19.986</td> <td> 0.000</td> <td>-4.91e+05</td> <td>-4.03e+05</td>\n",
       "</tr>\n",
       "<tr>\n",
       "  <th>SqFtTotLiving</th> <td>  223.3739</td> <td>    4.130</td> <td>   54.091</td> <td> 0.000</td> <td>  215.280</td> <td>  231.468</td>\n",
       "</tr>\n",
       "<tr>\n",
       "  <th>SqFtLot</th>       <td>   -0.0352</td> <td>    0.031</td> <td>   -1.150</td> <td> 0.250</td> <td>   -0.095</td> <td>    0.025</td>\n",
       "</tr>\n",
       "<tr>\n",
       "  <th>SqFtLot</th>       <td>   -0.0352</td> <td>    0.031</td> <td>   -1.150</td> <td> 0.250</td> <td>   -0.095</td> <td>    0.025</td>\n",
       "</tr>\n",
       "<tr>\n",
       "  <th>Bathrooms</th>     <td>-1.597e+04</td> <td> 3809.680</td> <td>   -4.193</td> <td> 0.000</td> <td>-2.34e+04</td> <td>-8505.902</td>\n",
       "</tr>\n",
       "<tr>\n",
       "  <th>Bedrooms</th>      <td> -5.09e+04</td> <td> 2537.687</td> <td>  -20.058</td> <td> 0.000</td> <td>-5.59e+04</td> <td>-4.59e+04</td>\n",
       "</tr>\n",
       "<tr>\n",
       "  <th>BldgGrade</th>     <td> 1.094e+05</td> <td> 2457.175</td> <td>   44.533</td> <td> 0.000</td> <td> 1.05e+05</td> <td> 1.14e+05</td>\n",
       "</tr>\n",
       "<tr>\n",
       "  <th>Townhouse</th>     <td>-1.151e+05</td> <td> 1.82e+04</td> <td>   -6.340</td> <td> 0.000</td> <td>-1.51e+05</td> <td>-7.96e+04</td>\n",
       "</tr>\n",
       "<tr>\n",
       "  <th>Single</th>        <td>-8.469e+04</td> <td> 1.66e+04</td> <td>   -5.088</td> <td> 0.000</td> <td>-1.17e+05</td> <td>-5.21e+04</td>\n",
       "</tr>\n",
       "</table>\n",
       "<table class=\"simpletable\">\n",
       "<tr>\n",
       "  <th>Omnibus:</th>       <td>29767.751</td> <th>  Durbin-Watson:     </th>   <td>   1.249</td>  \n",
       "</tr>\n",
       "<tr>\n",
       "  <th>Prob(Omnibus):</th>  <td> 0.000</td>   <th>  Jarque-Bera (JB):  </th> <td>19694167.912</td>\n",
       "</tr>\n",
       "<tr>\n",
       "  <th>Skew:</th>           <td> 6.926</td>   <th>  Prob(JB):          </th>   <td>    0.00</td>  \n",
       "</tr>\n",
       "<tr>\n",
       "  <th>Kurtosis:</th>       <td>146.667</td>  <th>  Cond. No.          </th>   <td>4.51e+15</td>  \n",
       "</tr>\n",
       "</table><br/><br/>Warnings:<br/>[1] Standard Errors assume that the covariance matrix of the errors is correctly specified.<br/>[2] The smallest eigenvalue is 2.19e-18. This might indicate that there are<br/>strong multicollinearity problems or that the design matrix is singular."
      ],
      "text/plain": [
       "<class 'statsmodels.iolib.summary.Summary'>\n",
       "\"\"\"\n",
       "                            OLS Regression Results                            \n",
       "==============================================================================\n",
       "Dep. Variable:           AdjSalePrice   R-squared:                       0.542\n",
       "Model:                            OLS   Adj. R-squared:                  0.541\n",
       "Method:                 Least Squares   F-statistic:                     3827.\n",
       "Date:                Mon, 20 Aug 2018   Prob (F-statistic):               0.00\n",
       "Time:                        11:07:18   Log-Likelihood:            -3.1517e+05\n",
       "No. Observations:               22689   AIC:                         6.304e+05\n",
       "Df Residuals:                   22681   BIC:                         6.304e+05\n",
       "Df Model:                           7                                         \n",
       "Covariance Type:            nonrobust                                         \n",
       "=================================================================================\n",
       "                    coef    std err          t      P>|t|      [0.025      0.975]\n",
       "---------------------------------------------------------------------------------\n",
       "const         -4.469e+05   2.24e+04    -19.986      0.000   -4.91e+05   -4.03e+05\n",
       "SqFtTotLiving   223.3739      4.130     54.091      0.000     215.280     231.468\n",
       "SqFtLot          -0.0352      0.031     -1.150      0.250      -0.095       0.025\n",
       "SqFtLot          -0.0352      0.031     -1.150      0.250      -0.095       0.025\n",
       "Bathrooms     -1.597e+04   3809.680     -4.193      0.000   -2.34e+04   -8505.902\n",
       "Bedrooms       -5.09e+04   2537.687    -20.058      0.000   -5.59e+04   -4.59e+04\n",
       "BldgGrade      1.094e+05   2457.175     44.533      0.000    1.05e+05    1.14e+05\n",
       "Townhouse     -1.151e+05   1.82e+04     -6.340      0.000   -1.51e+05   -7.96e+04\n",
       "Single        -8.469e+04   1.66e+04     -5.088      0.000   -1.17e+05   -5.21e+04\n",
       "==============================================================================\n",
       "Omnibus:                    29767.751   Durbin-Watson:                   1.249\n",
       "Prob(Omnibus):                  0.000   Jarque-Bera (JB):         19694167.912\n",
       "Skew:                           6.926   Prob(JB):                         0.00\n",
       "Kurtosis:                     146.667   Cond. No.                     4.51e+15\n",
       "==============================================================================\n",
       "\n",
       "Warnings:\n",
       "[1] Standard Errors assume that the covariance matrix of the errors is correctly specified.\n",
       "[2] The smallest eigenvalue is 2.19e-18. This might indicate that there are\n",
       "strong multicollinearity problems or that the design matrix is singular.\n",
       "\"\"\""
      ]
     },
     "execution_count": 126,
     "metadata": {},
     "output_type": "execute_result"
    }
   ],
   "source": [
    "lin_reg_sm = sm.OLS(y, sm.add_constant(X)).fit()\n",
    "lin_reg_sm.summary()"
   ]
  },
  {
   "cell_type": "code",
   "execution_count": 142,
   "metadata": {},
   "outputs": [
    {
     "data": {
      "text/plain": [
       "(97500, 98500)"
      ]
     },
     "execution_count": 142,
     "metadata": {},
     "output_type": "execute_result"
    },
    {
     "data": {
      "image/png": "[encoded data removed]",
      "text/plain": [
       "<matplotlib.figure.Figure at 0x129b48550>"
      ]
     },
     "metadata": {},
     "output_type": "display_data"
    }
   ],
   "source": [
    "zips = df_house['ZipCode'].values\n",
    "plt.boxplot(zips, sym='k')\n",
    "plt.ylim([97500, 98500])"
   ]
  },
  {
   "cell_type": "code",
   "execution_count": 153,
   "metadata": {},
   "outputs": [
    {
     "data": {
      "text/plain": [
       "array([-200453.85015574,  -62385.6679145 ,  191361.47893646, ...,\n",
       "         77172.62578742,   -7574.80592486,  241579.19407514])"
      ]
     },
     "execution_count": 153,
     "metadata": {},
     "output_type": "execute_result"
    }
   ],
   "source": [
    "lin_reg = linear_model.LinearRegression()\n",
    "lin_reg.fit(X, y)\n",
    "y_pred = lin_reg.predict(X).ravel()\n",
    "residuals = y.values.ravel() - y_pred"
   ]
  },
  {
   "cell_type": "code",
   "execution_count": 159,
   "metadata": {},
   "outputs": [
    {
     "data": {
      "text/plain": [
       "(-2000000.0, 2000000.0)"
      ]
     },
     "execution_count": 159,
     "metadata": {},
     "output_type": "execute_result"
    },
    {
     "data": {
      "image/png": "[encoded data removed]",
      "text/plain": [
       "<matplotlib.figure.Figure at 0x1334a3390>"
      ]
     },
     "metadata": {},
     "output_type": "display_data"
    }
   ],
   "source": [
    "plt.hist(residuals, bins=1000)\n",
    "plt.xlim([-0.2e7,0.2e7])"
   ]
  },
  {
   "cell_type": "code",
   "execution_count": 160,
   "metadata": {},
   "outputs": [
    {
     "data": {
      "text/plain": [
       "(97500, 98500)"
      ]
     },
     "execution_count": 160,
     "metadata": {},
     "output_type": "execute_result"
    },
    {
     "data": {
      "image/png": "[encoded data removed]",
      "text/plain": [
       "<matplotlib.figure.Figure at 0x131e59278>"
      ]
     },
     "metadata": {},
     "output_type": "display_data"
    }
   ],
   "source": [
    "plt.plot(residuals, zips, 'bo')\n",
    "plt.xlim([-0.2e7,0.2e7])\n",
    "plt.ylim([97500, 98500])"
   ]
  },
  {
   "cell_type": "code",
   "execution_count": 185,
   "metadata": {},
   "outputs": [
    {
     "data": {
      "text/html": [
       "<div>\n",
       "<style>\n",
       "    .dataframe thead tr:only-child th {\n",
       "        text-align: right;\n",
       "    }\n",
       "\n",
       "    .dataframe thead th {\n",
       "        text-align: left;\n",
       "    }\n",
       "\n",
       "    .dataframe tbody tr th {\n",
       "        vertical-align: top;\n",
       "    }\n",
       "</style>\n",
       "<table border=\"1\" class=\"dataframe\">\n",
       "  <thead>\n",
       "    <tr style=\"text-align: right;\">\n",
       "      <th></th>\n",
       "      <th>ZipCode</th>\n",
       "      <th>residual</th>\n",
       "    </tr>\n",
       "  </thead>\n",
       "  <tbody>\n",
       "    <tr>\n",
       "      <th>0</th>\n",
       "      <td>98002</td>\n",
       "      <td>-200453.850156</td>\n",
       "    </tr>\n",
       "    <tr>\n",
       "      <th>1</th>\n",
       "      <td>98166</td>\n",
       "      <td>-62385.667915</td>\n",
       "    </tr>\n",
       "    <tr>\n",
       "      <th>2</th>\n",
       "      <td>98166</td>\n",
       "      <td>191361.478936</td>\n",
       "    </tr>\n",
       "    <tr>\n",
       "      <th>3</th>\n",
       "      <td>98168</td>\n",
       "      <td>-192240.089351</td>\n",
       "    </tr>\n",
       "    <tr>\n",
       "      <th>4</th>\n",
       "      <td>98168</td>\n",
       "      <td>-89398.447638</td>\n",
       "    </tr>\n",
       "  </tbody>\n",
       "</table>\n",
       "</div>"
      ],
      "text/plain": [
       "   ZipCode       residual\n",
       "0    98002 -200453.850156\n",
       "1    98166  -62385.667915\n",
       "2    98166  191361.478936\n",
       "3    98168 -192240.089351\n",
       "4    98168  -89398.447638"
      ]
     },
     "execution_count": 185,
     "metadata": {},
     "output_type": "execute_result"
    }
   ],
   "source": [
    "df_zip = pd.DataFrame(data={'ZipCode': zips, 'residual': residuals})\n",
    "df_zip.head()"
   ]
  },
  {
   "cell_type": "code",
   "execution_count": 186,
   "metadata": {},
   "outputs": [
    {
     "data": {
      "text/html": [
       "<div>\n",
       "<style>\n",
       "    .dataframe thead tr:only-child th {\n",
       "        text-align: right;\n",
       "    }\n",
       "\n",
       "    .dataframe thead th {\n",
       "        text-align: left;\n",
       "    }\n",
       "\n",
       "    .dataframe tbody tr th {\n",
       "        vertical-align: top;\n",
       "    }\n",
       "</style>\n",
       "<table border=\"1\" class=\"dataframe\">\n",
       "  <thead>\n",
       "    <tr style=\"text-align: right;\">\n",
       "      <th></th>\n",
       "      <th>residual</th>\n",
       "    </tr>\n",
       "    <tr>\n",
       "      <th>ZipCode</th>\n",
       "      <th></th>\n",
       "    </tr>\n",
       "  </thead>\n",
       "  <tbody>\n",
       "    <tr>\n",
       "      <th>9800</th>\n",
       "      <td>82772.332085</td>\n",
       "    </tr>\n",
       "    <tr>\n",
       "      <th>89118</th>\n",
       "      <td>-59043.015926</td>\n",
       "    </tr>\n",
       "    <tr>\n",
       "      <th>98001</th>\n",
       "      <td>-142701.567655</td>\n",
       "    </tr>\n",
       "    <tr>\n",
       "      <th>98002</th>\n",
       "      <td>-65789.158348</td>\n",
       "    </tr>\n",
       "    <tr>\n",
       "      <th>98003</th>\n",
       "      <td>-138315.923749</td>\n",
       "    </tr>\n",
       "    <tr>\n",
       "      <th>98004</th>\n",
       "      <td>479109.869239</td>\n",
       "    </tr>\n",
       "    <tr>\n",
       "      <th>98005</th>\n",
       "      <td>90910.350078</td>\n",
       "    </tr>\n",
       "    <tr>\n",
       "      <th>98006</th>\n",
       "      <td>10940.947264</td>\n",
       "    </tr>\n",
       "    <tr>\n",
       "      <th>98007</th>\n",
       "      <td>7997.381107</td>\n",
       "    </tr>\n",
       "    <tr>\n",
       "      <th>98008</th>\n",
       "      <td>96915.024126</td>\n",
       "    </tr>\n",
       "  </tbody>\n",
       "</table>\n",
       "</div>"
      ],
      "text/plain": [
       "              residual\n",
       "ZipCode               \n",
       "9800      82772.332085\n",
       "89118    -59043.015926\n",
       "98001   -142701.567655\n",
       "98002    -65789.158348\n",
       "98003   -138315.923749\n",
       "98004    479109.869239\n",
       "98005     90910.350078\n",
       "98006     10940.947264\n",
       "98007      7997.381107\n",
       "98008     96915.024126"
      ]
     },
     "execution_count": 186,
     "metadata": {},
     "output_type": "execute_result"
    }
   ],
   "source": [
    "df_zip.groupby('ZipCode').mean().head(10)"
   ]
  },
  {
   "cell_type": "code",
   "execution_count": 221,
   "metadata": {},
   "outputs": [
    {
     "data": {
      "text/plain": [
       "[-521168.757486202,\n",
       " -100783.44216275869,\n",
       " -60053.72838119378,\n",
       " -9526.827573838393,\n",
       " 94819.69910295578,\n",
       " 1060296.1401270314]"
      ]
     },
     "execution_count": 221,
     "metadata": {},
     "output_type": "execute_result"
    }
   ],
   "source": [
    "mean_residual = df_zip.groupby('ZipCode').mean().values\n",
    "zip_cuts = []\n",
    "for i in range(6):\n",
    "    zip_cuts.append(np.percentile(mean_residual, 20*i))\n",
    "zip_cuts[0] -= 10\n",
    "zip_cuts[-1] += 10\n",
    "zip_cuts"
   ]
  },
  {
   "cell_type": "code",
   "execution_count": 222,
   "metadata": {},
   "outputs": [
    {
     "data": {
      "text/html": [
       "<div>\n",
       "<style>\n",
       "    .dataframe thead tr:only-child th {\n",
       "        text-align: right;\n",
       "    }\n",
       "\n",
       "    .dataframe thead th {\n",
       "        text-align: left;\n",
       "    }\n",
       "\n",
       "    .dataframe tbody tr th {\n",
       "        vertical-align: top;\n",
       "    }\n",
       "</style>\n",
       "<table border=\"1\" class=\"dataframe\">\n",
       "  <thead>\n",
       "    <tr style=\"text-align: right;\">\n",
       "      <th></th>\n",
       "      <th>residual</th>\n",
       "    </tr>\n",
       "    <tr>\n",
       "      <th>ZipCode</th>\n",
       "      <th></th>\n",
       "    </tr>\n",
       "  </thead>\n",
       "  <tbody>\n",
       "    <tr>\n",
       "      <th>9800</th>\n",
       "      <td>82772.332085</td>\n",
       "    </tr>\n",
       "    <tr>\n",
       "      <th>89118</th>\n",
       "      <td>-59043.015926</td>\n",
       "    </tr>\n",
       "    <tr>\n",
       "      <th>98001</th>\n",
       "      <td>-142701.567655</td>\n",
       "    </tr>\n",
       "    <tr>\n",
       "      <th>98002</th>\n",
       "      <td>-65789.158348</td>\n",
       "    </tr>\n",
       "    <tr>\n",
       "      <th>98003</th>\n",
       "      <td>-138315.923749</td>\n",
       "    </tr>\n",
       "  </tbody>\n",
       "</table>\n",
       "</div>"
      ],
      "text/plain": [
       "              residual\n",
       "ZipCode               \n",
       "9800      82772.332085\n",
       "89118    -59043.015926\n",
       "98001   -142701.567655\n",
       "98002    -65789.158348\n",
       "98003   -138315.923749"
      ]
     },
     "execution_count": 222,
     "metadata": {},
     "output_type": "execute_result"
    }
   ],
   "source": [
    "df_zip_mean = df_zip.groupby('ZipCode').mean()\n",
    "df_zip_mean.head()"
   ]
  },
  {
   "cell_type": "code",
   "execution_count": 224,
   "metadata": {},
   "outputs": [
    {
     "data": {
      "text/html": [
       "<div>\n",
       "<style>\n",
       "    .dataframe thead tr:only-child th {\n",
       "        text-align: right;\n",
       "    }\n",
       "\n",
       "    .dataframe thead th {\n",
       "        text-align: left;\n",
       "    }\n",
       "\n",
       "    .dataframe tbody tr th {\n",
       "        vertical-align: top;\n",
       "    }\n",
       "</style>\n",
       "<table border=\"1\" class=\"dataframe\">\n",
       "  <thead>\n",
       "    <tr style=\"text-align: right;\">\n",
       "      <th></th>\n",
       "      <th>residual</th>\n",
       "      <th>zip_cat</th>\n",
       "    </tr>\n",
       "    <tr>\n",
       "      <th>ZipCode</th>\n",
       "      <th></th>\n",
       "      <th></th>\n",
       "    </tr>\n",
       "  </thead>\n",
       "  <tbody>\n",
       "    <tr>\n",
       "      <th>9800</th>\n",
       "      <td>82772.332085</td>\n",
       "      <td>3</td>\n",
       "    </tr>\n",
       "    <tr>\n",
       "      <th>89118</th>\n",
       "      <td>-59043.015926</td>\n",
       "      <td>2</td>\n",
       "    </tr>\n",
       "    <tr>\n",
       "      <th>98001</th>\n",
       "      <td>-142701.567655</td>\n",
       "      <td>0</td>\n",
       "    </tr>\n",
       "    <tr>\n",
       "      <th>98002</th>\n",
       "      <td>-65789.158348</td>\n",
       "      <td>1</td>\n",
       "    </tr>\n",
       "    <tr>\n",
       "      <th>98003</th>\n",
       "      <td>-138315.923749</td>\n",
       "      <td>0</td>\n",
       "    </tr>\n",
       "  </tbody>\n",
       "</table>\n",
       "</div>"
      ],
      "text/plain": [
       "              residual  zip_cat\n",
       "ZipCode                        \n",
       "9800      82772.332085        3\n",
       "89118    -59043.015926        2\n",
       "98001   -142701.567655        0\n",
       "98002    -65789.158348        1\n",
       "98003   -138315.923749        0"
      ]
     },
     "execution_count": 224,
     "metadata": {},
     "output_type": "execute_result"
    }
   ],
   "source": [
    "df_zip_mean['zip_cat'] = (pd.cut(df_zip_mean['residual'], zip_cuts, \n",
    "                    labels=range(len(zip_cuts)-1))).astype(int)\n",
    "df_zip_mean.head()"
   ]
  },
  {
   "cell_type": "code",
   "execution_count": 226,
   "metadata": {},
   "outputs": [
    {
     "data": {
      "text/html": [
       "<div>\n",
       "<style>\n",
       "    .dataframe thead tr:only-child th {\n",
       "        text-align: right;\n",
       "    }\n",
       "\n",
       "    .dataframe thead th {\n",
       "        text-align: left;\n",
       "    }\n",
       "\n",
       "    .dataframe tbody tr th {\n",
       "        vertical-align: top;\n",
       "    }\n",
       "</style>\n",
       "<table border=\"1\" class=\"dataframe\">\n",
       "  <thead>\n",
       "    <tr style=\"text-align: right;\">\n",
       "      <th></th>\n",
       "      <th>DocumentDate</th>\n",
       "      <th>SalePrice</th>\n",
       "      <th>PropertyID</th>\n",
       "      <th>PropertyType</th>\n",
       "      <th>ym</th>\n",
       "      <th>zhvi_px</th>\n",
       "      <th>zhvi_idx</th>\n",
       "      <th>AdjSalePrice</th>\n",
       "      <th>NbrLivingUnits</th>\n",
       "      <th>SqFtLot</th>\n",
       "      <th>...</th>\n",
       "      <th>BldgGrade</th>\n",
       "      <th>YrBuilt</th>\n",
       "      <th>YrRenovated</th>\n",
       "      <th>TrafficNoise</th>\n",
       "      <th>LandVal</th>\n",
       "      <th>ImpsVal</th>\n",
       "      <th>ZipCode</th>\n",
       "      <th>NewConstruction</th>\n",
       "      <th>residual</th>\n",
       "      <th>zip_cat</th>\n",
       "    </tr>\n",
       "  </thead>\n",
       "  <tbody>\n",
       "    <tr>\n",
       "      <th>1</th>\n",
       "      <td>2014-09-16</td>\n",
       "      <td>280000</td>\n",
       "      <td>1000102</td>\n",
       "      <td>Multiplex</td>\n",
       "      <td>2014-09-01</td>\n",
       "      <td>405100</td>\n",
       "      <td>0.930836</td>\n",
       "      <td>300805.0</td>\n",
       "      <td>2</td>\n",
       "      <td>9373</td>\n",
       "      <td>...</td>\n",
       "      <td>7</td>\n",
       "      <td>1991</td>\n",
       "      <td>0</td>\n",
       "      <td>0</td>\n",
       "      <td>70000</td>\n",
       "      <td>229000</td>\n",
       "      <td>98002</td>\n",
       "      <td>False</td>\n",
       "      <td>-65789.158348</td>\n",
       "      <td>1</td>\n",
       "    </tr>\n",
       "    <tr>\n",
       "      <th>2</th>\n",
       "      <td>2006-06-16</td>\n",
       "      <td>1000000</td>\n",
       "      <td>1200013</td>\n",
       "      <td>Single Family</td>\n",
       "      <td>2006-06-01</td>\n",
       "      <td>404400</td>\n",
       "      <td>0.929228</td>\n",
       "      <td>1076162.0</td>\n",
       "      <td>1</td>\n",
       "      <td>20156</td>\n",
       "      <td>...</td>\n",
       "      <td>10</td>\n",
       "      <td>2005</td>\n",
       "      <td>0</td>\n",
       "      <td>0</td>\n",
       "      <td>203000</td>\n",
       "      <td>590000</td>\n",
       "      <td>98166</td>\n",
       "      <td>True</td>\n",
       "      <td>-32786.736704</td>\n",
       "      <td>2</td>\n",
       "    </tr>\n",
       "    <tr>\n",
       "      <th>3</th>\n",
       "      <td>2007-01-29</td>\n",
       "      <td>745000</td>\n",
       "      <td>1200019</td>\n",
       "      <td>Single Family</td>\n",
       "      <td>2007-01-01</td>\n",
       "      <td>425600</td>\n",
       "      <td>0.977941</td>\n",
       "      <td>761805.0</td>\n",
       "      <td>1</td>\n",
       "      <td>26036</td>\n",
       "      <td>...</td>\n",
       "      <td>8</td>\n",
       "      <td>1947</td>\n",
       "      <td>0</td>\n",
       "      <td>0</td>\n",
       "      <td>183000</td>\n",
       "      <td>275000</td>\n",
       "      <td>98166</td>\n",
       "      <td>False</td>\n",
       "      <td>-32786.736704</td>\n",
       "      <td>2</td>\n",
       "    </tr>\n",
       "    <tr>\n",
       "      <th>4</th>\n",
       "      <td>2008-02-25</td>\n",
       "      <td>425000</td>\n",
       "      <td>2800016</td>\n",
       "      <td>Single Family</td>\n",
       "      <td>2008-02-01</td>\n",
       "      <td>418400</td>\n",
       "      <td>0.961397</td>\n",
       "      <td>442065.0</td>\n",
       "      <td>1</td>\n",
       "      <td>8618</td>\n",
       "      <td>...</td>\n",
       "      <td>7</td>\n",
       "      <td>1966</td>\n",
       "      <td>0</td>\n",
       "      <td>0</td>\n",
       "      <td>104000</td>\n",
       "      <td>229000</td>\n",
       "      <td>98168</td>\n",
       "      <td>False</td>\n",
       "      <td>-59434.978576</td>\n",
       "      <td>2</td>\n",
       "    </tr>\n",
       "    <tr>\n",
       "      <th>5</th>\n",
       "      <td>2013-03-29</td>\n",
       "      <td>240000</td>\n",
       "      <td>2800024</td>\n",
       "      <td>Single Family</td>\n",
       "      <td>2013-03-01</td>\n",
       "      <td>351600</td>\n",
       "      <td>0.807904</td>\n",
       "      <td>297065.0</td>\n",
       "      <td>1</td>\n",
       "      <td>8620</td>\n",
       "      <td>...</td>\n",
       "      <td>7</td>\n",
       "      <td>1948</td>\n",
       "      <td>0</td>\n",
       "      <td>0</td>\n",
       "      <td>104000</td>\n",
       "      <td>205000</td>\n",
       "      <td>98168</td>\n",
       "      <td>False</td>\n",
       "      <td>-59434.978576</td>\n",
       "      <td>2</td>\n",
       "    </tr>\n",
       "  </tbody>\n",
       "</table>\n",
       "<p>5 rows × 24 columns</p>\n",
       "</div>"
      ],
      "text/plain": [
       "  DocumentDate  SalePrice  PropertyID   PropertyType          ym  zhvi_px  \\\n",
       "1   2014-09-16     280000     1000102      Multiplex  2014-09-01   405100   \n",
       "2   2006-06-16    1000000     1200013  Single Family  2006-06-01   404400   \n",
       "3   2007-01-29     745000     1200019  Single Family  2007-01-01   425600   \n",
       "4   2008-02-25     425000     2800016  Single Family  2008-02-01   418400   \n",
       "5   2013-03-29     240000     2800024  Single Family  2013-03-01   351600   \n",
       "\n",
       "   zhvi_idx  AdjSalePrice  NbrLivingUnits  SqFtLot   ...     BldgGrade  \\\n",
       "1  0.930836      300805.0               2     9373   ...             7   \n",
       "2  0.929228     1076162.0               1    20156   ...            10   \n",
       "3  0.977941      761805.0               1    26036   ...             8   \n",
       "4  0.961397      442065.0               1     8618   ...             7   \n",
       "5  0.807904      297065.0               1     8620   ...             7   \n",
       "\n",
       "   YrBuilt  YrRenovated  TrafficNoise  LandVal  ImpsVal  ZipCode  \\\n",
       "1     1991            0             0    70000   229000    98002   \n",
       "2     2005            0             0   203000   590000    98166   \n",
       "3     1947            0             0   183000   275000    98166   \n",
       "4     1966            0             0   104000   229000    98168   \n",
       "5     1948            0             0   104000   205000    98168   \n",
       "\n",
       "   NewConstruction      residual  zip_cat  \n",
       "1            False -65789.158348        1  \n",
       "2             True -32786.736704        2  \n",
       "3            False -32786.736704        2  \n",
       "4            False -59434.978576        2  \n",
       "5            False -59434.978576        2  \n",
       "\n",
       "[5 rows x 24 columns]"
      ]
     },
     "execution_count": 226,
     "metadata": {},
     "output_type": "execute_result"
    }
   ],
   "source": [
    "df_house = df_house.join(df_zip_mean, on='ZipCode')\n",
    "df_house.head()"
   ]
  },
  {
   "cell_type": "code",
   "execution_count": 241,
   "metadata": {},
   "outputs": [
    {
     "data": {
      "text/plain": [
       "<Container object of 5 artists>"
      ]
     },
     "execution_count": 241,
     "metadata": {},
     "output_type": "execute_result"
    },
    {
     "data": {
      "image/png": "[encoded data removed]",
      "text/plain": [
       "<matplotlib.figure.Figure at 0x12fd919e8>"
      ]
     },
     "metadata": {},
     "output_type": "display_data"
    }
   ],
   "source": [
    "plt.bar(range(5), df_house.groupby('zip_cat')['zip_cat'].value_counts())"
   ]
  },
  {
   "cell_type": "code",
   "execution_count": 250,
   "metadata": {},
   "outputs": [
    {
     "data": {
      "text/html": [
       "<table class=\"simpletable\">\n",
       "<caption>OLS Regression Results</caption>\n",
       "<tr>\n",
       "  <th>Dep. Variable:</th>            <td>y</td>        <th>  R-squared:         </th>  <td>   0.549</td>  \n",
       "</tr>\n",
       "<tr>\n",
       "  <th>Model:</th>                   <td>OLS</td>       <th>  Adj. R-squared:    </th>  <td>   0.549</td>  \n",
       "</tr>\n",
       "<tr>\n",
       "  <th>Method:</th>             <td>Least Squares</td>  <th>  F-statistic:       </th>  <td>   5515.</td>  \n",
       "</tr>\n",
       "<tr>\n",
       "  <th>Date:</th>             <td>Mon, 20 Aug 2018</td> <th>  Prob (F-statistic):</th>   <td>  0.00</td>   \n",
       "</tr>\n",
       "<tr>\n",
       "  <th>Time:</th>                 <td>15:56:49</td>     <th>  Log-Likelihood:    </th> <td>-3.1500e+05</td>\n",
       "</tr>\n",
       "<tr>\n",
       "  <th>No. Observations:</th>      <td> 22689</td>      <th>  AIC:               </th>  <td>6.300e+05</td> \n",
       "</tr>\n",
       "<tr>\n",
       "  <th>Df Residuals:</th>          <td> 22683</td>      <th>  BIC:               </th>  <td>6.301e+05</td> \n",
       "</tr>\n",
       "<tr>\n",
       "  <th>Df Model:</th>              <td>     5</td>      <th>                     </th>      <td> </td>     \n",
       "</tr>\n",
       "<tr>\n",
       "  <th>Covariance Type:</th>      <td>nonrobust</td>    <th>                     </th>      <td> </td>     \n",
       "</tr>\n",
       "</table>\n",
       "<table class=\"simpletable\">\n",
       "<tr>\n",
       "    <td></td>       <th>coef</th>     <th>std err</th>      <th>t</th>      <th>P>|t|</th>  <th>[0.025</th>    <th>0.975]</th>  \n",
       "</tr>\n",
       "<tr>\n",
       "  <th>const</th> <td>-5.876e+05</td> <td> 1.58e+04</td> <td>  -37.092</td> <td> 0.000</td> <td>-6.19e+05</td> <td>-5.57e+05</td>\n",
       "</tr>\n",
       "<tr>\n",
       "  <th>x1</th>    <td>-4.979e+04</td> <td> 2466.447</td> <td>  -20.186</td> <td> 0.000</td> <td>-5.46e+04</td> <td> -4.5e+04</td>\n",
       "</tr>\n",
       "<tr>\n",
       "  <th>x2</th>    <td> 1.202e+05</td> <td> 2475.403</td> <td>   48.541</td> <td> 0.000</td> <td> 1.15e+05</td> <td> 1.25e+05</td>\n",
       "</tr>\n",
       "<tr>\n",
       "  <th>x3</th>    <td>  196.7962</td> <td>    4.125</td> <td>   47.709</td> <td> 0.000</td> <td>  188.711</td> <td>  204.881</td>\n",
       "</tr>\n",
       "<tr>\n",
       "  <th>x4</th>    <td>   90.3950</td> <td>    4.498</td> <td>   20.095</td> <td> 0.000</td> <td>   81.578</td> <td>   99.212</td>\n",
       "</tr>\n",
       "<tr>\n",
       "  <th>x5</th>    <td>-1.761e+04</td> <td> 3588.906</td> <td>   -4.906</td> <td> 0.000</td> <td>-2.46e+04</td> <td>-1.06e+04</td>\n",
       "</tr>\n",
       "</table>\n",
       "<table class=\"simpletable\">\n",
       "<tr>\n",
       "  <th>Omnibus:</th>       <td>29815.495</td> <th>  Durbin-Watson:     </th>   <td>   1.304</td>  \n",
       "</tr>\n",
       "<tr>\n",
       "  <th>Prob(Omnibus):</th>  <td> 0.000</td>   <th>  Jarque-Bera (JB):  </th> <td>20230173.785</td>\n",
       "</tr>\n",
       "<tr>\n",
       "  <th>Skew:</th>           <td> 6.939</td>   <th>  Prob(JB):          </th>   <td>    0.00</td>  \n",
       "</tr>\n",
       "<tr>\n",
       "  <th>Kurtosis:</th>       <td>148.625</td>  <th>  Cond. No.          </th>   <td>2.14e+04</td>  \n",
       "</tr>\n",
       "</table><br/><br/>Warnings:<br/>[1] Standard Errors assume that the covariance matrix of the errors is correctly specified.<br/>[2] The condition number is large, 2.14e+04. This might indicate that there are<br/>strong multicollinearity or other numerical problems."
      ],
      "text/plain": [
       "<class 'statsmodels.iolib.summary.Summary'>\n",
       "\"\"\"\n",
       "                            OLS Regression Results                            \n",
       "==============================================================================\n",
       "Dep. Variable:                      y   R-squared:                       0.549\n",
       "Model:                            OLS   Adj. R-squared:                  0.549\n",
       "Method:                 Least Squares   F-statistic:                     5515.\n",
       "Date:                Mon, 20 Aug 2018   Prob (F-statistic):               0.00\n",
       "Time:                        15:56:49   Log-Likelihood:            -3.1500e+05\n",
       "No. Observations:               22689   AIC:                         6.300e+05\n",
       "Df Residuals:                   22683   BIC:                         6.301e+05\n",
       "Df Model:                           5                                         \n",
       "Covariance Type:            nonrobust                                         \n",
       "==============================================================================\n",
       "                 coef    std err          t      P>|t|      [0.025      0.975]\n",
       "------------------------------------------------------------------------------\n",
       "const      -5.876e+05   1.58e+04    -37.092      0.000   -6.19e+05   -5.57e+05\n",
       "x1         -4.979e+04   2466.447    -20.186      0.000   -5.46e+04    -4.5e+04\n",
       "x2          1.202e+05   2475.403     48.541      0.000    1.15e+05    1.25e+05\n",
       "x3           196.7962      4.125     47.709      0.000     188.711     204.881\n",
       "x4            90.3950      4.498     20.095      0.000      81.578      99.212\n",
       "x5         -1.761e+04   3588.906     -4.906      0.000   -2.46e+04   -1.06e+04\n",
       "==============================================================================\n",
       "Omnibus:                    29815.495   Durbin-Watson:                   1.304\n",
       "Prob(Omnibus):                  0.000   Jarque-Bera (JB):         20230173.785\n",
       "Skew:                           6.939   Prob(JB):                         0.00\n",
       "Kurtosis:                     148.625   Cond. No.                     2.14e+04\n",
       "==============================================================================\n",
       "\n",
       "Warnings:\n",
       "[1] Standard Errors assume that the covariance matrix of the errors is correctly specified.\n",
       "[2] The condition number is large, 2.14e+04. This might indicate that there are\n",
       "strong multicollinearity or other numerical problems.\n",
       "\"\"\""
      ]
     },
     "execution_count": 250,
     "metadata": {},
     "output_type": "execute_result"
    }
   ],
   "source": [
    "X = df_house[['Bedrooms', 'BldgGrade', \n",
    "              'SqFtTotLiving', 'SqFtFinBasement', 'Bathrooms']].values\n",
    "y = df_house['AdjSalePrice'].values\n",
    "\n",
    "lin_reg_sm = sm.OLS(y, sm.add_constant(X)).fit()\n",
    "lin_reg_sm.summary()"
   ]
  },
  {
   "cell_type": "code",
   "execution_count": 251,
   "metadata": {},
   "outputs": [
    {
     "data": {
      "text/html": [
       "<table class=\"simpletable\">\n",
       "<caption>OLS Regression Results</caption>\n",
       "<tr>\n",
       "  <th>Dep. Variable:</th>            <td>y</td>        <th>  R-squared:         </th>  <td>   0.461</td>  \n",
       "</tr>\n",
       "<tr>\n",
       "  <th>Model:</th>                   <td>OLS</td>       <th>  Adj. R-squared:    </th>  <td>   0.461</td>  \n",
       "</tr>\n",
       "<tr>\n",
       "  <th>Method:</th>             <td>Least Squares</td>  <th>  F-statistic:       </th>  <td>   9706.</td>  \n",
       "</tr>\n",
       "<tr>\n",
       "  <th>Date:</th>             <td>Mon, 20 Aug 2018</td> <th>  Prob (F-statistic):</th>   <td>  0.00</td>   \n",
       "</tr>\n",
       "<tr>\n",
       "  <th>Time:</th>                 <td>15:57:10</td>     <th>  Log-Likelihood:    </th> <td>-3.1701e+05</td>\n",
       "</tr>\n",
       "<tr>\n",
       "  <th>No. Observations:</th>      <td> 22689</td>      <th>  AIC:               </th>  <td>6.340e+05</td> \n",
       "</tr>\n",
       "<tr>\n",
       "  <th>Df Residuals:</th>          <td> 22686</td>      <th>  BIC:               </th>  <td>6.340e+05</td> \n",
       "</tr>\n",
       "<tr>\n",
       "  <th>Df Model:</th>              <td>     2</td>      <th>                     </th>      <td> </td>     \n",
       "</tr>\n",
       "<tr>\n",
       "  <th>Covariance Type:</th>      <td>nonrobust</td>    <th>                     </th>      <td> </td>     \n",
       "</tr>\n",
       "</table>\n",
       "<table class=\"simpletable\">\n",
       "<tr>\n",
       "    <td></td>       <th>coef</th>     <th>std err</th>      <th>t</th>      <th>P>|t|</th>  <th>[0.025</th>    <th>0.975]</th>  \n",
       "</tr>\n",
       "<tr>\n",
       "  <th>const</th> <td>-1.167e+06</td> <td> 1.27e+04</td> <td>  -92.190</td> <td> 0.000</td> <td>-1.19e+06</td> <td>-1.14e+06</td>\n",
       "</tr>\n",
       "<tr>\n",
       "  <th>x1</th>    <td> 3.125e+04</td> <td> 2233.737</td> <td>   13.989</td> <td> 0.000</td> <td> 2.69e+04</td> <td> 3.56e+04</td>\n",
       "</tr>\n",
       "<tr>\n",
       "  <th>x2</th>    <td> 2.118e+05</td> <td> 1711.234</td> <td>  123.749</td> <td> 0.000</td> <td> 2.08e+05</td> <td> 2.15e+05</td>\n",
       "</tr>\n",
       "</table>\n",
       "<table class=\"simpletable\">\n",
       "<tr>\n",
       "  <th>Omnibus:</th>       <td>29852.543</td> <th>  Durbin-Watson:     </th>   <td>   1.215</td>  \n",
       "</tr>\n",
       "<tr>\n",
       "  <th>Prob(Omnibus):</th>  <td> 0.000</td>   <th>  Jarque-Bera (JB):  </th> <td>17420290.766</td>\n",
       "</tr>\n",
       "<tr>\n",
       "  <th>Skew:</th>           <td> 7.019</td>   <th>  Prob(JB):          </th>   <td>    0.00</td>  \n",
       "</tr>\n",
       "<tr>\n",
       "  <th>Kurtosis:</th>       <td>138.018</td>  <th>  Cond. No.          </th>   <td>    57.9</td>  \n",
       "</tr>\n",
       "</table><br/><br/>Warnings:<br/>[1] Standard Errors assume that the covariance matrix of the errors is correctly specified."
      ],
      "text/plain": [
       "<class 'statsmodels.iolib.summary.Summary'>\n",
       "\"\"\"\n",
       "                            OLS Regression Results                            \n",
       "==============================================================================\n",
       "Dep. Variable:                      y   R-squared:                       0.461\n",
       "Model:                            OLS   Adj. R-squared:                  0.461\n",
       "Method:                 Least Squares   F-statistic:                     9706.\n",
       "Date:                Mon, 20 Aug 2018   Prob (F-statistic):               0.00\n",
       "Time:                        15:57:10   Log-Likelihood:            -3.1701e+05\n",
       "No. Observations:               22689   AIC:                         6.340e+05\n",
       "Df Residuals:                   22686   BIC:                         6.340e+05\n",
       "Df Model:                           2                                         \n",
       "Covariance Type:            nonrobust                                         \n",
       "==============================================================================\n",
       "                 coef    std err          t      P>|t|      [0.025      0.975]\n",
       "------------------------------------------------------------------------------\n",
       "const      -1.167e+06   1.27e+04    -92.190      0.000   -1.19e+06   -1.14e+06\n",
       "x1          3.125e+04   2233.737     13.989      0.000    2.69e+04    3.56e+04\n",
       "x2          2.118e+05   1711.234    123.749      0.000    2.08e+05    2.15e+05\n",
       "==============================================================================\n",
       "Omnibus:                    29852.543   Durbin-Watson:                   1.215\n",
       "Prob(Omnibus):                  0.000   Jarque-Bera (JB):         17420290.766\n",
       "Skew:                           7.019   Prob(JB):                         0.00\n",
       "Kurtosis:                     138.018   Cond. No.                         57.9\n",
       "==============================================================================\n",
       "\n",
       "Warnings:\n",
       "[1] Standard Errors assume that the covariance matrix of the errors is correctly specified.\n",
       "\"\"\""
      ]
     },
     "execution_count": 251,
     "metadata": {},
     "output_type": "execute_result"
    }
   ],
   "source": [
    "X = df_house[['Bedrooms', 'BldgGrade']].values\n",
    "y = df_house['AdjSalePrice'].values\n",
    "\n",
    "lin_reg_sm = sm.OLS(y, sm.add_constant(X)).fit()\n",
    "lin_reg_sm.summary()"
   ]
  },
  {
   "cell_type": "code",
   "execution_count": 255,
   "metadata": {},
   "outputs": [
    {
     "data": {
      "text/html": [
       "<div>\n",
       "<style>\n",
       "    .dataframe thead tr:only-child th {\n",
       "        text-align: right;\n",
       "    }\n",
       "\n",
       "    .dataframe thead th {\n",
       "        text-align: left;\n",
       "    }\n",
       "\n",
       "    .dataframe tbody tr th {\n",
       "        vertical-align: top;\n",
       "    }\n",
       "</style>\n",
       "<table border=\"1\" class=\"dataframe\">\n",
       "  <thead>\n",
       "    <tr style=\"text-align: right;\">\n",
       "      <th></th>\n",
       "      <th>SalePrice</th>\n",
       "      <th>PropertyID</th>\n",
       "      <th>zhvi_px</th>\n",
       "      <th>zhvi_idx</th>\n",
       "      <th>AdjSalePrice</th>\n",
       "      <th>NbrLivingUnits</th>\n",
       "      <th>SqFtLot</th>\n",
       "      <th>SqFtTotLiving</th>\n",
       "      <th>SqFtFinBasement</th>\n",
       "      <th>Bathrooms</th>\n",
       "      <th>Bedrooms</th>\n",
       "      <th>BldgGrade</th>\n",
       "      <th>YrBuilt</th>\n",
       "      <th>YrRenovated</th>\n",
       "      <th>TrafficNoise</th>\n",
       "      <th>LandVal</th>\n",
       "      <th>ImpsVal</th>\n",
       "      <th>ZipCode</th>\n",
       "      <th>NewConstruction</th>\n",
       "    </tr>\n",
       "  </thead>\n",
       "  <tbody>\n",
       "    <tr>\n",
       "      <th>SalePrice</th>\n",
       "      <td>1.000000</td>\n",
       "      <td>-0.026192</td>\n",
       "      <td>0.096770</td>\n",
       "      <td>0.096770</td>\n",
       "      <td>0.985467</td>\n",
       "      <td>0.023776</td>\n",
       "      <td>0.134764</td>\n",
       "      <td>0.689925</td>\n",
       "      <td>0.294919</td>\n",
       "      <td>0.524452</td>\n",
       "      <td>0.311337</td>\n",
       "      <td>0.666946</td>\n",
       "      <td>0.082491</td>\n",
       "      <td>0.105938</td>\n",
       "      <td>-0.011723</td>\n",
       "      <td>0.804943</td>\n",
       "      <td>0.825471</td>\n",
       "      <td>-0.017014</td>\n",
       "      <td>0.048791</td>\n",
       "    </tr>\n",
       "    <tr>\n",
       "      <th>PropertyID</th>\n",
       "      <td>-0.026192</td>\n",
       "      <td>1.000000</td>\n",
       "      <td>-0.015182</td>\n",
       "      <td>-0.015182</td>\n",
       "      <td>-0.024616</td>\n",
       "      <td>-0.014102</td>\n",
       "      <td>-0.114653</td>\n",
       "      <td>-0.020237</td>\n",
       "      <td>-0.036200</td>\n",
       "      <td>-0.006150</td>\n",
       "      <td>-0.027491</td>\n",
       "      <td>-0.010204</td>\n",
       "      <td>0.031254</td>\n",
       "      <td>-0.010435</td>\n",
       "      <td>-0.032571</td>\n",
       "      <td>-0.032630</td>\n",
       "      <td>-0.011651</td>\n",
       "      <td>0.001687</td>\n",
       "      <td>0.046724</td>\n",
       "    </tr>\n",
       "    <tr>\n",
       "      <th>zhvi_px</th>\n",
       "      <td>0.096770</td>\n",
       "      <td>-0.015182</td>\n",
       "      <td>1.000000</td>\n",
       "      <td>1.000000</td>\n",
       "      <td>-0.044627</td>\n",
       "      <td>0.015245</td>\n",
       "      <td>-0.012901</td>\n",
       "      <td>-0.021590</td>\n",
       "      <td>-0.007247</td>\n",
       "      <td>-0.027789</td>\n",
       "      <td>-0.000330</td>\n",
       "      <td>-0.045961</td>\n",
       "      <td>-0.016092</td>\n",
       "      <td>-0.000766</td>\n",
       "      <td>0.008455</td>\n",
       "      <td>-0.023783</td>\n",
       "      <td>-0.031458</td>\n",
       "      <td>0.004230</td>\n",
       "      <td>0.038360</td>\n",
       "    </tr>\n",
       "    <tr>\n",
       "      <th>zhvi_idx</th>\n",
       "      <td>0.096770</td>\n",
       "      <td>-0.015182</td>\n",
       "      <td>1.000000</td>\n",
       "      <td>1.000000</td>\n",
       "      <td>-0.044627</td>\n",
       "      <td>0.015245</td>\n",
       "      <td>-0.012901</td>\n",
       "      <td>-0.021590</td>\n",
       "      <td>-0.007247</td>\n",
       "      <td>-0.027789</td>\n",
       "      <td>-0.000330</td>\n",
       "      <td>-0.045961</td>\n",
       "      <td>-0.016092</td>\n",
       "      <td>-0.000766</td>\n",
       "      <td>0.008455</td>\n",
       "      <td>-0.023783</td>\n",
       "      <td>-0.031458</td>\n",
       "      <td>0.004230</td>\n",
       "      <td>0.038360</td>\n",
       "    </tr>\n",
       "    <tr>\n",
       "      <th>AdjSalePrice</th>\n",
       "      <td>0.985467</td>\n",
       "      <td>-0.024616</td>\n",
       "      <td>-0.044627</td>\n",
       "      <td>-0.044627</td>\n",
       "      <td>1.000000</td>\n",
       "      <td>0.022540</td>\n",
       "      <td>0.137143</td>\n",
       "      <td>0.695183</td>\n",
       "      <td>0.297593</td>\n",
       "      <td>0.529189</td>\n",
       "      <td>0.312020</td>\n",
       "      <td>0.675625</td>\n",
       "      <td>0.082276</td>\n",
       "      <td>0.107760</td>\n",
       "      <td>-0.012271</td>\n",
       "      <td>0.812167</td>\n",
       "      <td>0.833389</td>\n",
       "      <td>-0.017856</td>\n",
       "      <td>0.041172</td>\n",
       "    </tr>\n",
       "    <tr>\n",
       "      <th>NbrLivingUnits</th>\n",
       "      <td>0.023776</td>\n",
       "      <td>-0.014102</td>\n",
       "      <td>0.015245</td>\n",
       "      <td>0.015245</td>\n",
       "      <td>0.022540</td>\n",
       "      <td>1.000000</td>\n",
       "      <td>-0.005113</td>\n",
       "      <td>0.059563</td>\n",
       "      <td>0.066803</td>\n",
       "      <td>0.111227</td>\n",
       "      <td>0.168076</td>\n",
       "      <td>-0.048095</td>\n",
       "      <td>-0.109173</td>\n",
       "      <td>0.011371</td>\n",
       "      <td>0.083209</td>\n",
       "      <td>0.031421</td>\n",
       "      <td>0.003004</td>\n",
       "      <td>0.005786</td>\n",
       "      <td>-0.036871</td>\n",
       "    </tr>\n",
       "    <tr>\n",
       "      <th>SqFtLot</th>\n",
       "      <td>0.134764</td>\n",
       "      <td>-0.114653</td>\n",
       "      <td>-0.012901</td>\n",
       "      <td>-0.012901</td>\n",
       "      <td>0.137143</td>\n",
       "      <td>-0.005113</td>\n",
       "      <td>1.000000</td>\n",
       "      <td>0.195950</td>\n",
       "      <td>0.035421</td>\n",
       "      <td>0.107436</td>\n",
       "      <td>0.069076</td>\n",
       "      <td>0.145501</td>\n",
       "      <td>0.068406</td>\n",
       "      <td>0.006912</td>\n",
       "      <td>-0.012827</td>\n",
       "      <td>0.071051</td>\n",
       "      <td>0.107663</td>\n",
       "      <td>-0.010942</td>\n",
       "      <td>-0.067399</td>\n",
       "    </tr>\n",
       "    <tr>\n",
       "      <th>SqFtTotLiving</th>\n",
       "      <td>0.689925</td>\n",
       "      <td>-0.020237</td>\n",
       "      <td>-0.021590</td>\n",
       "      <td>-0.021590</td>\n",
       "      <td>0.695183</td>\n",
       "      <td>0.059563</td>\n",
       "      <td>0.195950</td>\n",
       "      <td>1.000000</td>\n",
       "      <td>0.407127</td>\n",
       "      <td>0.764186</td>\n",
       "      <td>0.600288</td>\n",
       "      <td>0.770493</td>\n",
       "      <td>0.311597</td>\n",
       "      <td>0.067160</td>\n",
       "      <td>-0.060718</td>\n",
       "      <td>0.467805</td>\n",
       "      <td>0.761816</td>\n",
       "      <td>-0.031595</td>\n",
       "      <td>0.113968</td>\n",
       "    </tr>\n",
       "    <tr>\n",
       "      <th>SqFtFinBasement</th>\n",
       "      <td>0.294919</td>\n",
       "      <td>-0.036200</td>\n",
       "      <td>-0.007247</td>\n",
       "      <td>-0.007247</td>\n",
       "      <td>0.297593</td>\n",
       "      <td>0.066803</td>\n",
       "      <td>0.035421</td>\n",
       "      <td>0.407127</td>\n",
       "      <td>1.000000</td>\n",
       "      <td>0.272684</td>\n",
       "      <td>0.312405</td>\n",
       "      <td>0.137570</td>\n",
       "      <td>-0.210897</td>\n",
       "      <td>0.109488</td>\n",
       "      <td>0.053026</td>\n",
       "      <td>0.283728</td>\n",
       "      <td>0.281781</td>\n",
       "      <td>0.016431</td>\n",
       "      <td>-0.113575</td>\n",
       "    </tr>\n",
       "    <tr>\n",
       "      <th>Bathrooms</th>\n",
       "      <td>0.524452</td>\n",
       "      <td>-0.006150</td>\n",
       "      <td>-0.027789</td>\n",
       "      <td>-0.027789</td>\n",
       "      <td>0.529189</td>\n",
       "      <td>0.111227</td>\n",
       "      <td>0.107436</td>\n",
       "      <td>0.764186</td>\n",
       "      <td>0.272684</td>\n",
       "      <td>1.000000</td>\n",
       "      <td>0.537953</td>\n",
       "      <td>0.658772</td>\n",
       "      <td>0.468643</td>\n",
       "      <td>0.066460</td>\n",
       "      <td>-0.060015</td>\n",
       "      <td>0.309340</td>\n",
       "      <td>0.625276</td>\n",
       "      <td>-0.028770</td>\n",
       "      <td>0.197179</td>\n",
       "    </tr>\n",
       "    <tr>\n",
       "      <th>Bedrooms</th>\n",
       "      <td>0.311337</td>\n",
       "      <td>-0.027491</td>\n",
       "      <td>-0.000330</td>\n",
       "      <td>-0.000330</td>\n",
       "      <td>0.312020</td>\n",
       "      <td>0.168076</td>\n",
       "      <td>0.069076</td>\n",
       "      <td>0.600288</td>\n",
       "      <td>0.312405</td>\n",
       "      <td>0.537953</td>\n",
       "      <td>1.000000</td>\n",
       "      <td>0.367995</td>\n",
       "      <td>0.148205</td>\n",
       "      <td>0.045941</td>\n",
       "      <td>-0.039173</td>\n",
       "      <td>0.204193</td>\n",
       "      <td>0.349181</td>\n",
       "      <td>-0.019309</td>\n",
       "      <td>0.011165</td>\n",
       "    </tr>\n",
       "    <tr>\n",
       "      <th>BldgGrade</th>\n",
       "      <td>0.666946</td>\n",
       "      <td>-0.010204</td>\n",
       "      <td>-0.045961</td>\n",
       "      <td>-0.045961</td>\n",
       "      <td>0.675625</td>\n",
       "      <td>-0.048095</td>\n",
       "      <td>0.145501</td>\n",
       "      <td>0.770493</td>\n",
       "      <td>0.137570</td>\n",
       "      <td>0.658772</td>\n",
       "      <td>0.367995</td>\n",
       "      <td>1.000000</td>\n",
       "      <td>0.434642</td>\n",
       "      <td>0.025352</td>\n",
       "      <td>-0.063295</td>\n",
       "      <td>0.460108</td>\n",
       "      <td>0.750022</td>\n",
       "      <td>-0.029064</td>\n",
       "      <td>0.168762</td>\n",
       "    </tr>\n",
       "    <tr>\n",
       "      <th>YrBuilt</th>\n",
       "      <td>0.082491</td>\n",
       "      <td>0.031254</td>\n",
       "      <td>-0.016092</td>\n",
       "      <td>-0.016092</td>\n",
       "      <td>0.082276</td>\n",
       "      <td>-0.109173</td>\n",
       "      <td>0.068406</td>\n",
       "      <td>0.311597</td>\n",
       "      <td>-0.210897</td>\n",
       "      <td>0.468643</td>\n",
       "      <td>0.148205</td>\n",
       "      <td>0.434642</td>\n",
       "      <td>1.000000</td>\n",
       "      <td>-0.247307</td>\n",
       "      <td>-0.147141</td>\n",
       "      <td>-0.106235</td>\n",
       "      <td>0.182567</td>\n",
       "      <td>-0.040960</td>\n",
       "      <td>0.386605</td>\n",
       "    </tr>\n",
       "    <tr>\n",
       "      <th>YrRenovated</th>\n",
       "      <td>0.105938</td>\n",
       "      <td>-0.010435</td>\n",
       "      <td>-0.000766</td>\n",
       "      <td>-0.000766</td>\n",
       "      <td>0.107760</td>\n",
       "      <td>0.011371</td>\n",
       "      <td>0.006912</td>\n",
       "      <td>0.067160</td>\n",
       "      <td>0.109488</td>\n",
       "      <td>0.066460</td>\n",
       "      <td>0.045941</td>\n",
       "      <td>0.025352</td>\n",
       "      <td>-0.247307</td>\n",
       "      <td>1.000000</td>\n",
       "      <td>0.024601</td>\n",
       "      <td>0.129167</td>\n",
       "      <td>0.115133</td>\n",
       "      <td>0.008575</td>\n",
       "      <td>-0.075842</td>\n",
       "    </tr>\n",
       "    <tr>\n",
       "      <th>TrafficNoise</th>\n",
       "      <td>-0.011723</td>\n",
       "      <td>-0.032571</td>\n",
       "      <td>0.008455</td>\n",
       "      <td>0.008455</td>\n",
       "      <td>-0.012271</td>\n",
       "      <td>0.083209</td>\n",
       "      <td>-0.012827</td>\n",
       "      <td>-0.060718</td>\n",
       "      <td>0.053026</td>\n",
       "      <td>-0.060015</td>\n",
       "      <td>-0.039173</td>\n",
       "      <td>-0.063295</td>\n",
       "      <td>-0.147141</td>\n",
       "      <td>0.024601</td>\n",
       "      <td>1.000000</td>\n",
       "      <td>0.003973</td>\n",
       "      <td>-0.012155</td>\n",
       "      <td>0.011739</td>\n",
       "      <td>-0.030714</td>\n",
       "    </tr>\n",
       "    <tr>\n",
       "      <th>LandVal</th>\n",
       "      <td>0.804943</td>\n",
       "      <td>-0.032630</td>\n",
       "      <td>-0.023783</td>\n",
       "      <td>-0.023783</td>\n",
       "      <td>0.812167</td>\n",
       "      <td>0.031421</td>\n",
       "      <td>0.071051</td>\n",
       "      <td>0.467805</td>\n",
       "      <td>0.283728</td>\n",
       "      <td>0.309340</td>\n",
       "      <td>0.204193</td>\n",
       "      <td>0.460108</td>\n",
       "      <td>-0.106235</td>\n",
       "      <td>0.129167</td>\n",
       "      <td>0.003973</td>\n",
       "      <td>1.000000</td>\n",
       "      <td>0.567130</td>\n",
       "      <td>-0.012908</td>\n",
       "      <td>-0.083589</td>\n",
       "    </tr>\n",
       "    <tr>\n",
       "      <th>ImpsVal</th>\n",
       "      <td>0.825471</td>\n",
       "      <td>-0.011651</td>\n",
       "      <td>-0.031458</td>\n",
       "      <td>-0.031458</td>\n",
       "      <td>0.833389</td>\n",
       "      <td>0.003004</td>\n",
       "      <td>0.107663</td>\n",
       "      <td>0.761816</td>\n",
       "      <td>0.281781</td>\n",
       "      <td>0.625276</td>\n",
       "      <td>0.349181</td>\n",
       "      <td>0.750022</td>\n",
       "      <td>0.182567</td>\n",
       "      <td>0.115133</td>\n",
       "      <td>-0.012155</td>\n",
       "      <td>0.567130</td>\n",
       "      <td>1.000000</td>\n",
       "      <td>-0.020747</td>\n",
       "      <td>0.112403</td>\n",
       "    </tr>\n",
       "    <tr>\n",
       "      <th>ZipCode</th>\n",
       "      <td>-0.017014</td>\n",
       "      <td>0.001687</td>\n",
       "      <td>0.004230</td>\n",
       "      <td>0.004230</td>\n",
       "      <td>-0.017856</td>\n",
       "      <td>0.005786</td>\n",
       "      <td>-0.010942</td>\n",
       "      <td>-0.031595</td>\n",
       "      <td>0.016431</td>\n",
       "      <td>-0.028770</td>\n",
       "      <td>-0.019309</td>\n",
       "      <td>-0.029064</td>\n",
       "      <td>-0.040960</td>\n",
       "      <td>0.008575</td>\n",
       "      <td>0.011739</td>\n",
       "      <td>-0.012908</td>\n",
       "      <td>-0.020747</td>\n",
       "      <td>1.000000</td>\n",
       "      <td>-0.023053</td>\n",
       "    </tr>\n",
       "    <tr>\n",
       "      <th>NewConstruction</th>\n",
       "      <td>0.048791</td>\n",
       "      <td>0.046724</td>\n",
       "      <td>0.038360</td>\n",
       "      <td>0.038360</td>\n",
       "      <td>0.041172</td>\n",
       "      <td>-0.036871</td>\n",
       "      <td>-0.067399</td>\n",
       "      <td>0.113968</td>\n",
       "      <td>-0.113575</td>\n",
       "      <td>0.197179</td>\n",
       "      <td>0.011165</td>\n",
       "      <td>0.168762</td>\n",
       "      <td>0.386605</td>\n",
       "      <td>-0.075842</td>\n",
       "      <td>-0.030714</td>\n",
       "      <td>-0.083589</td>\n",
       "      <td>0.112403</td>\n",
       "      <td>-0.023053</td>\n",
       "      <td>1.000000</td>\n",
       "    </tr>\n",
       "  </tbody>\n",
       "</table>\n",
       "</div>"
      ],
      "text/plain": [
       "                 SalePrice  PropertyID   zhvi_px  zhvi_idx  AdjSalePrice  \\\n",
       "SalePrice         1.000000   -0.026192  0.096770  0.096770      0.985467   \n",
       "PropertyID       -0.026192    1.000000 -0.015182 -0.015182     -0.024616   \n",
       "zhvi_px           0.096770   -0.015182  1.000000  1.000000     -0.044627   \n",
       "zhvi_idx          0.096770   -0.015182  1.000000  1.000000     -0.044627   \n",
       "AdjSalePrice      0.985467   -0.024616 -0.044627 -0.044627      1.000000   \n",
       "NbrLivingUnits    0.023776   -0.014102  0.015245  0.015245      0.022540   \n",
       "SqFtLot           0.134764   -0.114653 -0.012901 -0.012901      0.137143   \n",
       "SqFtTotLiving     0.689925   -0.020237 -0.021590 -0.021590      0.695183   \n",
       "SqFtFinBasement   0.294919   -0.036200 -0.007247 -0.007247      0.297593   \n",
       "Bathrooms         0.524452   -0.006150 -0.027789 -0.027789      0.529189   \n",
       "Bedrooms          0.311337   -0.027491 -0.000330 -0.000330      0.312020   \n",
       "BldgGrade         0.666946   -0.010204 -0.045961 -0.045961      0.675625   \n",
       "YrBuilt           0.082491    0.031254 -0.016092 -0.016092      0.082276   \n",
       "YrRenovated       0.105938   -0.010435 -0.000766 -0.000766      0.107760   \n",
       "TrafficNoise     -0.011723   -0.032571  0.008455  0.008455     -0.012271   \n",
       "LandVal           0.804943   -0.032630 -0.023783 -0.023783      0.812167   \n",
       "ImpsVal           0.825471   -0.011651 -0.031458 -0.031458      0.833389   \n",
       "ZipCode          -0.017014    0.001687  0.004230  0.004230     -0.017856   \n",
       "NewConstruction   0.048791    0.046724  0.038360  0.038360      0.041172   \n",
       "\n",
       "                 NbrLivingUnits   SqFtLot  SqFtTotLiving  SqFtFinBasement  \\\n",
       "SalePrice              0.023776  0.134764       0.689925         0.294919   \n",
       "PropertyID            -0.014102 -0.114653      -0.020237        -0.036200   \n",
       "zhvi_px                0.015245 -0.012901      -0.021590        -0.007247   \n",
       "zhvi_idx               0.015245 -0.012901      -0.021590        -0.007247   \n",
       "AdjSalePrice           0.022540  0.137143       0.695183         0.297593   \n",
       "NbrLivingUnits         1.000000 -0.005113       0.059563         0.066803   \n",
       "SqFtLot               -0.005113  1.000000       0.195950         0.035421   \n",
       "SqFtTotLiving          0.059563  0.195950       1.000000         0.407127   \n",
       "SqFtFinBasement        0.066803  0.035421       0.407127         1.000000   \n",
       "Bathrooms              0.111227  0.107436       0.764186         0.272684   \n",
       "Bedrooms               0.168076  0.069076       0.600288         0.312405   \n",
       "BldgGrade             -0.048095  0.145501       0.770493         0.137570   \n",
       "YrBuilt               -0.109173  0.068406       0.311597        -0.210897   \n",
       "YrRenovated            0.011371  0.006912       0.067160         0.109488   \n",
       "TrafficNoise           0.083209 -0.012827      -0.060718         0.053026   \n",
       "LandVal                0.031421  0.071051       0.467805         0.283728   \n",
       "ImpsVal                0.003004  0.107663       0.761816         0.281781   \n",
       "ZipCode                0.005786 -0.010942      -0.031595         0.016431   \n",
       "NewConstruction       -0.036871 -0.067399       0.113968        -0.113575   \n",
       "\n",
       "                 Bathrooms  Bedrooms  BldgGrade   YrBuilt  YrRenovated  \\\n",
       "SalePrice         0.524452  0.311337   0.666946  0.082491     0.105938   \n",
       "PropertyID       -0.006150 -0.027491  -0.010204  0.031254    -0.010435   \n",
       "zhvi_px          -0.027789 -0.000330  -0.045961 -0.016092    -0.000766   \n",
       "zhvi_idx         -0.027789 -0.000330  -0.045961 -0.016092    -0.000766   \n",
       "AdjSalePrice      0.529189  0.312020   0.675625  0.082276     0.107760   \n",
       "NbrLivingUnits    0.111227  0.168076  -0.048095 -0.109173     0.011371   \n",
       "SqFtLot           0.107436  0.069076   0.145501  0.068406     0.006912   \n",
       "SqFtTotLiving     0.764186  0.600288   0.770493  0.311597     0.067160   \n",
       "SqFtFinBasement   0.272684  0.312405   0.137570 -0.210897     0.109488   \n",
       "Bathrooms         1.000000  0.537953   0.658772  0.468643     0.066460   \n",
       "Bedrooms          0.537953  1.000000   0.367995  0.148205     0.045941   \n",
       "BldgGrade         0.658772  0.367995   1.000000  0.434642     0.025352   \n",
       "YrBuilt           0.468643  0.148205   0.434642  1.000000    -0.247307   \n",
       "YrRenovated       0.066460  0.045941   0.025352 -0.247307     1.000000   \n",
       "TrafficNoise     -0.060015 -0.039173  -0.063295 -0.147141     0.024601   \n",
       "LandVal           0.309340  0.204193   0.460108 -0.106235     0.129167   \n",
       "ImpsVal           0.625276  0.349181   0.750022  0.182567     0.115133   \n",
       "ZipCode          -0.028770 -0.019309  -0.029064 -0.040960     0.008575   \n",
       "NewConstruction   0.197179  0.011165   0.168762  0.386605    -0.075842   \n",
       "\n",
       "                 TrafficNoise   LandVal   ImpsVal   ZipCode  NewConstruction  \n",
       "SalePrice           -0.011723  0.804943  0.825471 -0.017014         0.048791  \n",
       "PropertyID          -0.032571 -0.032630 -0.011651  0.001687         0.046724  \n",
       "zhvi_px              0.008455 -0.023783 -0.031458  0.004230         0.038360  \n",
       "zhvi_idx             0.008455 -0.023783 -0.031458  0.004230         0.038360  \n",
       "AdjSalePrice        -0.012271  0.812167  0.833389 -0.017856         0.041172  \n",
       "NbrLivingUnits       0.083209  0.031421  0.003004  0.005786        -0.036871  \n",
       "SqFtLot             -0.012827  0.071051  0.107663 -0.010942        -0.067399  \n",
       "SqFtTotLiving       -0.060718  0.467805  0.761816 -0.031595         0.113968  \n",
       "SqFtFinBasement      0.053026  0.283728  0.281781  0.016431        -0.113575  \n",
       "Bathrooms           -0.060015  0.309340  0.625276 -0.028770         0.197179  \n",
       "Bedrooms            -0.039173  0.204193  0.349181 -0.019309         0.011165  \n",
       "BldgGrade           -0.063295  0.460108  0.750022 -0.029064         0.168762  \n",
       "YrBuilt             -0.147141 -0.106235  0.182567 -0.040960         0.386605  \n",
       "YrRenovated          0.024601  0.129167  0.115133  0.008575        -0.075842  \n",
       "TrafficNoise         1.000000  0.003973 -0.012155  0.011739        -0.030714  \n",
       "LandVal              0.003973  1.000000  0.567130 -0.012908        -0.083589  \n",
       "ImpsVal             -0.012155  0.567130  1.000000 -0.020747         0.112403  \n",
       "ZipCode              0.011739 -0.012908 -0.020747  1.000000        -0.023053  \n",
       "NewConstruction     -0.030714 -0.083589  0.112403 -0.023053         1.000000  "
      ]
     },
     "execution_count": 255,
     "metadata": {},
     "output_type": "execute_result"
    }
   ],
   "source": [
    "df_house.corr()"
   ]
  },
  {
   "cell_type": "code",
   "execution_count": 268,
   "metadata": {},
   "outputs": [
    {
     "data": {
      "text/plain": [
       "<matplotlib.colorbar.Colorbar at 0x12f9e8780>"
      ]
     },
     "execution_count": 268,
     "metadata": {},
     "output_type": "execute_result"
    },
    {
     "data": {
      "image/png": "[encoded data removed]",
      "text/plain": [
       "<matplotlib.figure.Figure at 0x12d3d9c50>"
      ]
     },
     "metadata": {},
     "output_type": "display_data"
    }
   ],
   "source": [
    "columns = df_house.corr().columns\n",
    "\n",
    "plt.matshow(df_house.corr().values, cmap='jet')\n",
    "plt.grid(False)\n",
    "plt.xticks(range(len(columns)), columns, rotation=90)\n",
    "plt.yticks(range(len(columns)), columns)\n",
    "plt.colorbar()"
   ]
  },
  {
   "cell_type": "code",
   "execution_count": 288,
   "metadata": {},
   "outputs": [
    {
     "name": "stdout",
     "output_type": "stream",
     "text": [
      "min 8006 -4.926838362420435\n",
      "max 16975 36.60676247173345\n"
     ]
    }
   ],
   "source": [
    "X = df_house[['Bedrooms', 'BldgGrade', \n",
    "              'SqFtTotLiving', 'SqFtFinBasement', 'Bathrooms']].values\n",
    "y = df_house['AdjSalePrice'].values\n",
    "\n",
    "lin_reg = linear_model.LinearRegression()\n",
    "lin_reg.fit(X, y)\n",
    "residuals = y - lin_reg.predict(X)\n",
    "std_res = np.std(residuals)\n",
    "residuals /= std_res\n",
    "print('min', np.argmin(residuals), residuals[np.argmin(residuals)])\n",
    "print('max', np.argmax(residuals), residuals[np.argmax(residuals)])"
   ]
  },
  {
   "cell_type": "code",
   "execution_count": 296,
   "metadata": {},
   "outputs": [
    {
     "data": {
      "text/html": [
       "<div>\n",
       "<style>\n",
       "    .dataframe thead tr:only-child th {\n",
       "        text-align: right;\n",
       "    }\n",
       "\n",
       "    .dataframe thead th {\n",
       "        text-align: left;\n",
       "    }\n",
       "\n",
       "    .dataframe tbody tr th {\n",
       "        vertical-align: top;\n",
       "    }\n",
       "</style>\n",
       "<table border=\"1\" class=\"dataframe\">\n",
       "  <thead>\n",
       "    <tr style=\"text-align: right;\">\n",
       "      <th></th>\n",
       "      <th>DocumentDate</th>\n",
       "      <th>SalePrice</th>\n",
       "      <th>PropertyID</th>\n",
       "      <th>PropertyType</th>\n",
       "      <th>ym</th>\n",
       "      <th>zhvi_px</th>\n",
       "      <th>zhvi_idx</th>\n",
       "      <th>AdjSalePrice</th>\n",
       "      <th>NbrLivingUnits</th>\n",
       "      <th>SqFtLot</th>\n",
       "      <th>...</th>\n",
       "      <th>Bathrooms</th>\n",
       "      <th>Bedrooms</th>\n",
       "      <th>BldgGrade</th>\n",
       "      <th>YrBuilt</th>\n",
       "      <th>YrRenovated</th>\n",
       "      <th>TrafficNoise</th>\n",
       "      <th>LandVal</th>\n",
       "      <th>ImpsVal</th>\n",
       "      <th>ZipCode</th>\n",
       "      <th>NewConstruction</th>\n",
       "    </tr>\n",
       "  </thead>\n",
       "  <tbody>\n",
       "    <tr>\n",
       "      <th>20115</th>\n",
       "      <td>2006-08-22</td>\n",
       "      <td>11000000</td>\n",
       "      <td>7397300120</td>\n",
       "      <td>Single Family</td>\n",
       "      <td>2006-08-01</td>\n",
       "      <td>411100</td>\n",
       "      <td>0.944623</td>\n",
       "      <td>11644855.0</td>\n",
       "      <td>2</td>\n",
       "      <td>44000</td>\n",
       "      <td>...</td>\n",
       "      <td>6.5</td>\n",
       "      <td>6</td>\n",
       "      <td>13</td>\n",
       "      <td>1995</td>\n",
       "      <td>0</td>\n",
       "      <td>0</td>\n",
       "      <td>3612000</td>\n",
       "      <td>4846000</td>\n",
       "      <td>98039</td>\n",
       "      <td>False</td>\n",
       "    </tr>\n",
       "  </tbody>\n",
       "</table>\n",
       "<p>1 rows × 22 columns</p>\n",
       "</div>"
      ],
      "text/plain": [
       "      DocumentDate  SalePrice  PropertyID   PropertyType          ym  zhvi_px  \\\n",
       "20115   2006-08-22   11000000  7397300120  Single Family  2006-08-01   411100   \n",
       "\n",
       "       zhvi_idx  AdjSalePrice  NbrLivingUnits  SqFtLot       ...         \\\n",
       "20115  0.944623    11644855.0               2    44000       ...          \n",
       "\n",
       "       Bathrooms  Bedrooms  BldgGrade  YrBuilt  YrRenovated  TrafficNoise  \\\n",
       "20115        6.5         6         13     1995            0             0   \n",
       "\n",
       "       LandVal  ImpsVal  ZipCode  NewConstruction  \n",
       "20115  3612000  4846000    98039            False  \n",
       "\n",
       "[1 rows x 22 columns]"
      ]
     },
     "execution_count": 296,
     "metadata": {},
     "output_type": "execute_result"
    }
   ],
   "source": [
    "df_house.iloc[[16975]]"
   ]
  },
  {
   "cell_type": "code",
   "execution_count": 294,
   "metadata": {},
   "outputs": [
    {
     "data": {
      "image/png": "[encoded data removed]",
      "text/plain": [
       "<matplotlib.figure.Figure at 0x12f871668>"
      ]
     },
     "metadata": {},
     "output_type": "display_data"
    }
   ],
   "source": [
    "plt.hist(residuals, bins=100)\n",
    "plt.yscale('log', nonposy='clip')"
   ]
  },
  {
   "cell_type": "code",
   "execution_count": 309,
   "metadata": {},
   "outputs": [],
   "source": [
    "X = df_house[df_house['ZipCode']==98105][['Bedrooms', 'BldgGrade', \n",
    "              'SqFtTotLiving', 'SqFtFinBasement', 'Bathrooms']].values\n",
    "y = df_house[df_house['ZipCode']==98105]['AdjSalePrice'].values\n",
    "\n",
    "lin_reg_sm = sm.OLS(y, sm.add_constant(X)).fit()\n",
    "#stats.outliers_influence.OLSInfluence.summary_frame(lin_reg_sm) ???"
   ]
  },
  {
   "cell_type": "code",
   "execution_count": 315,
   "metadata": {},
   "outputs": [
    {
     "data": {
      "text/plain": [
       "Text(0,0.5,'Residuals')"
      ]
     },
     "execution_count": 315,
     "metadata": {},
     "output_type": "execute_result"
    },
    {
     "data": {
      "image/png": "[encoded data removed]",
      "text/plain": [
       "<matplotlib.figure.Figure at 0x133696048>"
      ]
     },
     "metadata": {},
     "output_type": "display_data"
    }
   ],
   "source": [
    "X = df_house[df_house['ZipCode']==98105][['Bedrooms', 'BldgGrade', \n",
    "              'SqFtTotLiving', 'SqFtFinBasement', 'Bathrooms']].values\n",
    "y = df_house[df_house['ZipCode']==98105]['AdjSalePrice'].values\n",
    "\n",
    "lin_reg.fit(X, y)\n",
    "residuals = y - lin_reg.predict(X)\n",
    "plt.plot(lin_reg.predict(X), np.abs(residuals), 'bo')\n",
    "plt.xticks(rotation=-30)\n",
    "plt.xlabel('Predicted y')\n",
    "plt.ylabel('Residuals')"
   ]
  },
  {
   "cell_type": "code",
   "execution_count": null,
   "metadata": {},
   "outputs": [],
   "source": []
  }
 ],
 "metadata": {
  "kernelspec": {
   "display_name": "Python 3",
   "language": "python",
   "name": "python3"
  },
  "language_info": {
   "codemirror_mode": {
    "name": "ipython",
    "version": 3
   },
   "file_extension": ".py",
   "mimetype": "text/x-python",
   "name": "python",
   "nbconvert_exporter": "python",
   "pygments_lexer": "ipython3",
   "version": "3.6.0"
  },
  "toc": {
   "base_numbering": 1,
   "nav_menu": {},
   "number_sections": true,
   "sideBar": true,
   "skip_h1_title": false,
   "title_cell": "Table of Contents",
   "title_sidebar": "Contents",
   "toc_cell": false,
   "toc_position": {},
   "toc_section_display": true,
   "toc_window_display": true
  }
 },
 "nbformat": 4,
 "nbformat_minor": 2
}
